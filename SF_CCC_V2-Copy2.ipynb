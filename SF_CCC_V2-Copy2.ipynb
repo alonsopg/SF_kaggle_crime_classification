{
 "cells": [
  {
   "cell_type": "markdown",
   "metadata": {},
   "source": [
    "# SF Crime Classification Challenge\n",
    "\n",
    "My approach for the kaggle's San Francisco Crime Classification challenge."
   ]
  },
  {
   "cell_type": "markdown",
   "metadata": {},
   "source": [
    "### Data exploration"
   ]
  },
  {
   "cell_type": "code",
   "execution_count": 1,
   "metadata": {
    "collapsed": true
   },
   "outputs": [],
   "source": [
    "import pandas as pd\n",
    "import numpy as np\n",
    "%matplotlib inline"
   ]
  },
  {
   "cell_type": "code",
   "execution_count": 2,
   "metadata": {
    "collapsed": false
   },
   "outputs": [
    {
     "data": {
      "text/html": [
       "<div>\n",
       "<table border=\"1\" class=\"dataframe\">\n",
       "  <thead>\n",
       "    <tr style=\"text-align: right;\">\n",
       "      <th></th>\n",
       "      <th>Dates</th>\n",
       "      <th>Category</th>\n",
       "      <th>Descript</th>\n",
       "      <th>DayOfWeek</th>\n",
       "      <th>PdDistrict</th>\n",
       "      <th>Resolution</th>\n",
       "      <th>Address</th>\n",
       "      <th>X</th>\n",
       "      <th>Y</th>\n",
       "    </tr>\n",
       "  </thead>\n",
       "  <tbody>\n",
       "    <tr>\n",
       "      <th>878047</th>\n",
       "      <td>2003-01-06 00:01:00</td>\n",
       "      <td>VANDALISM</td>\n",
       "      <td>MALICIOUS MISCHIEF, VANDALISM OF VEHICLES</td>\n",
       "      <td>Monday</td>\n",
       "      <td>SOUTHERN</td>\n",
       "      <td>NONE</td>\n",
       "      <td>TOWNSEND ST / 2ND ST</td>\n",
       "      <td>-122.390531</td>\n",
       "      <td>37.780607</td>\n",
       "    </tr>\n",
       "    <tr>\n",
       "      <th>878048</th>\n",
       "      <td>2003-01-06 00:01:00</td>\n",
       "      <td>FORGERY/COUNTERFEITING</td>\n",
       "      <td>CHECKS, FORGERY (FELONY)</td>\n",
       "      <td>Monday</td>\n",
       "      <td>BAYVIEW</td>\n",
       "      <td>NONE</td>\n",
       "      <td>1800 Block of NEWCOMB AV</td>\n",
       "      <td>-122.394926</td>\n",
       "      <td>37.738212</td>\n",
       "    </tr>\n",
       "  </tbody>\n",
       "</table>\n",
       "</div>"
      ],
      "text/plain": [
       "                      Dates                Category  \\\n",
       "878047  2003-01-06 00:01:00               VANDALISM   \n",
       "878048  2003-01-06 00:01:00  FORGERY/COUNTERFEITING   \n",
       "\n",
       "                                         Descript DayOfWeek PdDistrict  \\\n",
       "878047  MALICIOUS MISCHIEF, VANDALISM OF VEHICLES    Monday   SOUTHERN   \n",
       "878048                   CHECKS, FORGERY (FELONY)    Monday    BAYVIEW   \n",
       "\n",
       "       Resolution                   Address           X          Y  \n",
       "878047       NONE      TOWNSEND ST / 2ND ST -122.390531  37.780607  \n",
       "878048       NONE  1800 Block of NEWCOMB AV -122.394926  37.738212  "
      ]
     },
     "execution_count": 2,
     "metadata": {},
     "output_type": "execute_result"
    }
   ],
   "source": [
    "training_data = pd.read_csv('/Users/user/Jupyter/datasets/SFCCC_dataset/train 2.csv')\n",
    "training_data.tail(2)"
   ]
  },
  {
   "cell_type": "code",
   "execution_count": 3,
   "metadata": {
    "collapsed": false
   },
   "outputs": [
    {
     "data": {
      "text/html": [
       "<div>\n",
       "<table border=\"1\" class=\"dataframe\">\n",
       "  <thead>\n",
       "    <tr style=\"text-align: right;\">\n",
       "      <th></th>\n",
       "      <th>Dates</th>\n",
       "      <th>Category</th>\n",
       "      <th>Descript</th>\n",
       "      <th>DayOfWeek</th>\n",
       "      <th>PdDistrict</th>\n",
       "      <th>Resolution</th>\n",
       "      <th>Address</th>\n",
       "      <th>X</th>\n",
       "      <th>Y</th>\n",
       "    </tr>\n",
       "  </thead>\n",
       "  <tbody>\n",
       "    <tr>\n",
       "      <th>878047</th>\n",
       "      <td>2003-01-06 00:01:00</td>\n",
       "      <td>VANDALISM</td>\n",
       "      <td>MALICIOUS MISCHIEF, VANDALISM OF VEHICLES</td>\n",
       "      <td>Monday</td>\n",
       "      <td>SOUTHERN</td>\n",
       "      <td>NONE</td>\n",
       "      <td>TOWNSEND ST / 2ND ST</td>\n",
       "      <td>-122.390531</td>\n",
       "      <td>37.780607</td>\n",
       "    </tr>\n",
       "    <tr>\n",
       "      <th>878048</th>\n",
       "      <td>2003-01-06 00:01:00</td>\n",
       "      <td>FORGERY/COUNTERFEITING</td>\n",
       "      <td>CHECKS, FORGERY (FELONY)</td>\n",
       "      <td>Monday</td>\n",
       "      <td>BAYVIEW</td>\n",
       "      <td>NONE</td>\n",
       "      <td>1800 Block of NEWCOMB AV</td>\n",
       "      <td>-122.394926</td>\n",
       "      <td>37.738212</td>\n",
       "    </tr>\n",
       "  </tbody>\n",
       "</table>\n",
       "</div>"
      ],
      "text/plain": [
       "                      Dates                Category  \\\n",
       "878047  2003-01-06 00:01:00               VANDALISM   \n",
       "878048  2003-01-06 00:01:00  FORGERY/COUNTERFEITING   \n",
       "\n",
       "                                         Descript DayOfWeek PdDistrict  \\\n",
       "878047  MALICIOUS MISCHIEF, VANDALISM OF VEHICLES    Monday   SOUTHERN   \n",
       "878048                   CHECKS, FORGERY (FELONY)    Monday    BAYVIEW   \n",
       "\n",
       "       Resolution                   Address           X          Y  \n",
       "878047       NONE      TOWNSEND ST / 2ND ST -122.390531  37.780607  \n",
       "878048       NONE  1800 Block of NEWCOMB AV -122.394926  37.738212  "
      ]
     },
     "execution_count": 3,
     "metadata": {},
     "output_type": "execute_result"
    }
   ],
   "source": [
    "testing_data = pd.read_csv('/Users/user/Jupyter/datasets/SFCCC_dataset/train 2.csv')\n",
    "testing_data.tail(2)"
   ]
  },
  {
   "cell_type": "code",
   "execution_count": 4,
   "metadata": {
    "collapsed": false
   },
   "outputs": [
    {
     "data": {
      "text/plain": [
       "((878049, 9), (878049, 9))"
      ]
     },
     "execution_count": 4,
     "metadata": {},
     "output_type": "execute_result"
    }
   ],
   "source": [
    "training_data.shape, testing_data.shape"
   ]
  },
  {
   "cell_type": "code",
   "execution_count": 5,
   "metadata": {
    "collapsed": false
   },
   "outputs": [
    {
     "data": {
      "text/plain": [
       "Dates          object\n",
       "Category       object\n",
       "Descript       object\n",
       "DayOfWeek      object\n",
       "PdDistrict     object\n",
       "Resolution     object\n",
       "Address        object\n",
       "X             float64\n",
       "Y             float64\n",
       "dtype: object"
      ]
     },
     "execution_count": 5,
     "metadata": {},
     "output_type": "execute_result"
    }
   ],
   "source": [
    "training_data.dtypes"
   ]
  },
  {
   "cell_type": "code",
   "execution_count": 6,
   "metadata": {
    "collapsed": false
   },
   "outputs": [
    {
     "data": {
      "text/plain": [
       "Dates          object\n",
       "Category       object\n",
       "Descript       object\n",
       "DayOfWeek      object\n",
       "PdDistrict     object\n",
       "Resolution     object\n",
       "Address        object\n",
       "X             float64\n",
       "Y             float64\n",
       "dtype: object"
      ]
     },
     "execution_count": 6,
     "metadata": {},
     "output_type": "execute_result"
    }
   ],
   "source": [
    "testing_data.dtypes"
   ]
  },
  {
   "cell_type": "markdown",
   "metadata": {},
   "source": [
    "### Check missing values"
   ]
  },
  {
   "cell_type": "code",
   "execution_count": 7,
   "metadata": {
    "collapsed": false
   },
   "outputs": [
    {
     "data": {
      "text/plain": [
       "Dates         0\n",
       "Category      0\n",
       "Descript      0\n",
       "DayOfWeek     0\n",
       "PdDistrict    0\n",
       "Resolution    0\n",
       "Address       0\n",
       "X             0\n",
       "Y             0\n",
       "dtype: int64"
      ]
     },
     "execution_count": 7,
     "metadata": {},
     "output_type": "execute_result"
    }
   ],
   "source": [
    "training_data.apply(lambda x: sum(x.isnull()))"
   ]
  },
  {
   "cell_type": "code",
   "execution_count": 8,
   "metadata": {
    "collapsed": false
   },
   "outputs": [
    {
     "data": {
      "text/plain": [
       "Dates         0\n",
       "Category      0\n",
       "Descript      0\n",
       "DayOfWeek     0\n",
       "PdDistrict    0\n",
       "Resolution    0\n",
       "Address       0\n",
       "X             0\n",
       "Y             0\n",
       "dtype: int64"
      ]
     },
     "execution_count": 8,
     "metadata": {},
     "output_type": "execute_result"
    }
   ],
   "source": [
    "testing_data.apply(lambda x: sum(x.isnull()))"
   ]
  },
  {
   "cell_type": "markdown",
   "metadata": {},
   "source": [
    "### Look at categories of all object variables:"
   ]
  },
  {
   "cell_type": "code",
   "execution_count": 9,
   "metadata": {
    "collapsed": false
   },
   "outputs": [
    {
     "name": "stdout",
     "output_type": "stream",
     "text": [
      "\n",
      "+++ Frequency count for variable Dates +++\n",
      "\n",
      "2011-01-01 00:01:00    185\n",
      "2006-01-01 00:01:00    136\n",
      "2012-01-01 00:01:00     94\n",
      "2006-01-01 12:00:00     63\n",
      "2007-06-01 00:01:00     61\n",
      "2006-06-01 00:01:00     58\n",
      "2010-06-01 00:01:00     56\n",
      "2010-08-01 00:01:00     55\n",
      "2008-04-01 00:01:00     53\n",
      "2013-11-01 00:01:00     52\n",
      "2010-11-01 00:01:00     51\n",
      "2008-11-01 00:01:00     51\n",
      "2013-05-01 00:01:00     51\n",
      "2006-07-01 00:01:00     51\n",
      "2011-06-01 00:01:00     50\n",
      "2005-06-01 00:01:00     50\n",
      "2005-07-01 00:01:00     49\n",
      "2008-06-01 00:01:00     48\n",
      "2009-09-01 00:01:00     46\n",
      "2013-06-01 12:00:00     46\n",
      "2012-06-01 00:01:00     46\n",
      "2006-11-01 00:01:00     46\n",
      "2009-04-01 00:01:00     45\n",
      "2009-10-01 00:01:00     45\n",
      "2008-10-01 00:01:00     45\n",
      "2007-07-01 00:01:00     44\n",
      "2003-10-01 00:01:00     44\n",
      "2013-12-01 00:01:00     44\n",
      "2004-10-01 00:01:00     44\n",
      "2006-12-01 00:01:00     43\n",
      "                      ... \n",
      "2008-10-05 22:05:00      1\n",
      "2010-11-15 23:44:00      1\n",
      "2003-02-19 20:15:00      1\n",
      "2014-01-07 07:05:00      1\n",
      "2014-07-23 03:08:00      1\n",
      "2003-04-03 19:05:00      1\n",
      "2013-08-11 18:46:00      1\n",
      "2013-05-03 20:45:00      1\n",
      "2009-02-05 06:00:00      1\n",
      "2005-08-25 17:15:00      1\n",
      "2005-04-18 18:24:00      1\n",
      "2007-03-11 13:55:00      1\n",
      "2008-09-03 18:52:00      1\n",
      "2010-12-17 15:27:00      1\n",
      "2008-09-19 01:48:00      1\n",
      "2014-05-01 18:45:00      1\n",
      "2011-07-31 13:45:00      1\n",
      "2004-12-22 06:13:00      1\n",
      "2005-04-04 06:30:00      1\n",
      "2013-12-29 18:45:00      1\n",
      "2011-01-25 13:21:00      1\n",
      "2003-10-16 01:30:00      1\n",
      "2012-04-19 13:15:00      1\n",
      "2003-06-10 08:35:00      1\n",
      "2009-03-20 21:20:00      1\n",
      "2009-08-20 22:45:00      1\n",
      "2015-04-17 19:15:00      1\n",
      "2014-11-02 17:37:00      1\n",
      "2008-02-05 13:05:00      1\n",
      "2012-01-10 22:32:00      1\n",
      "Name: Dates, dtype: int64\n",
      "\n",
      "+++ Frequency count for variable Category +++\n",
      "\n",
      "LARCENY/THEFT                  174900\n",
      "OTHER OFFENSES                 126182\n",
      "NON-CRIMINAL                    92304\n",
      "ASSAULT                         76876\n",
      "DRUG/NARCOTIC                   53971\n",
      "VEHICLE THEFT                   53781\n",
      "VANDALISM                       44725\n",
      "WARRANTS                        42214\n",
      "BURGLARY                        36755\n",
      "SUSPICIOUS OCC                  31414\n",
      "MISSING PERSON                  25989\n",
      "ROBBERY                         23000\n",
      "FRAUD                           16679\n",
      "FORGERY/COUNTERFEITING          10609\n",
      "SECONDARY CODES                  9985\n",
      "WEAPON LAWS                      8555\n",
      "PROSTITUTION                     7484\n",
      "TRESPASS                         7326\n",
      "STOLEN PROPERTY                  4540\n",
      "SEX OFFENSES FORCIBLE            4388\n",
      "DISORDERLY CONDUCT               4320\n",
      "DRUNKENNESS                      4280\n",
      "RECOVERED VEHICLE                3138\n",
      "KIDNAPPING                       2341\n",
      "DRIVING UNDER THE INFLUENCE      2268\n",
      "RUNAWAY                          1946\n",
      "LIQUOR LAWS                      1903\n",
      "ARSON                            1513\n",
      "LOITERING                        1225\n",
      "EMBEZZLEMENT                     1166\n",
      "SUICIDE                           508\n",
      "FAMILY OFFENSES                   491\n",
      "BAD CHECKS                        406\n",
      "BRIBERY                           289\n",
      "EXTORTION                         256\n",
      "SEX OFFENSES NON FORCIBLE         148\n",
      "GAMBLING                          146\n",
      "PORNOGRAPHY/OBSCENE MAT            22\n",
      "TREA                                6\n",
      "Name: Category, dtype: int64\n",
      "\n",
      "+++ Frequency count for variable Descript +++\n",
      "\n",
      "GRAND THEFT FROM LOCKED AUTO                                60022\n",
      "LOST PROPERTY                                               31729\n",
      "BATTERY                                                     27441\n",
      "STOLEN AUTOMOBILE                                           26897\n",
      "DRIVERS LICENSE, SUSPENDED OR REVOKED                       26839\n",
      "WARRANT ARREST                                              23754\n",
      "SUSPICIOUS OCCURRENCE                                       21891\n",
      "AIDED CASE, MENTAL DISTURBED                                21497\n",
      "PETTY THEFT FROM LOCKED AUTO                                19771\n",
      "MALICIOUS MISCHIEF, VANDALISM OF VEHICLES                   17789\n",
      "TRAFFIC VIOLATION                                           16471\n",
      "PETTY THEFT OF PROPERTY                                     16196\n",
      "MALICIOUS MISCHIEF, VANDALISM                               15957\n",
      "THREATS AGAINST LIFE                                        14716\n",
      "FOUND PROPERTY                                              12146\n",
      "ENROUTE TO OUTSIDE JURISDICTION                             11470\n",
      "GRAND THEFT OF PROPERTY                                     11010\n",
      "POSSESSION OF NARCOTICS PARAPHERNALIA                       10050\n",
      "PETTY THEFT FROM A BUILDING                                 10029\n",
      "PETTY THEFT SHOPLIFTING                                      9571\n",
      "GRAND THEFT FROM A BUILDING                                  9512\n",
      "FOUND PERSON                                                 9317\n",
      "RESISTING ARREST                                             8983\n",
      "CREDIT CARD, THEFT BY USE OF                                 8877\n",
      "MISSING JUVENILE                                             8620\n",
      "STOLEN TRUCK                                                 8591\n",
      "MISCELLANEOUS INVESTIGATION                                  8389\n",
      "VEHICLE, RECOVERED, AUTO                                     8199\n",
      "MISSING ADULT                                                8052\n",
      "PROBATION VIOLATION                                          8016\n",
      "                                                            ...  \n",
      "WEARING THE APPAREL OF OPPOSITE SEX TO DECEIVE                  1\n",
      "ASSAULT OR ATTEMPTED MURDER UPON GOV'T OFFICERS                 1\n",
      "PURCHASE FEMALE FOR THE PURPOSE OF PROSTITUTION                 1\n",
      "ATTEMPTED SUICIDE BY DROWNING                                   1\n",
      "DESTRUCTIVE DEVICE, POSSESSION OF MATERIALS                     1\n",
      "IMPERSONATING FIRE DEPARTMENT MEMBER                            1\n",
      "ASSAULT, AGGRAVATED, ON POLICE OFFICER, W/ SEMI AUTO            1\n",
      "PLANTING/CULTIVATING PEYOTE                                     1\n",
      "ROBBERY, VEHICLE FOR HIRE, ATT., W/ GUN                         1\n",
      "AGGRAVATED ASSAULT OF POLICE OFFICER, SNIPING                   1\n",
      "BIGAMY, INCEST, AND THE CRIME AGAINST NATURE (GENERAL)          1\n",
      "BURGLARY,HOTEL UNDER CONSTRUCTION, ATT. FORCIBLE                1\n",
      "ASSAULT TO ROB BANK WITH A GUN                                  1\n",
      "ENCOURAGE MINOR TO USE CONTROLLED SUBSTANCE                     1\n",
      "PUTTING SLUGS IN PARKING METERS                                 1\n",
      "FALSE REPORT OF POLICE MISCONDUCT                               1\n",
      "ARSON OF A POLICE VEHICLE                                       1\n",
      "OBSTRUCTING HEALTH FACILITY, PLACE OF WORSHIP, OR SCHOOL        1\n",
      "SHOOTING BY JUVENILE SUSPECT                                    1\n",
      "ASSAULT TO ROB WITH BODILY FORCE                                1\n",
      "DISASTER AREA, ENTERING OR REMAINING IN                         1\n",
      "SOLICITING MINOR TO COMMIT FELONY                               1\n",
      "DRIVING, DRAG RACING                                            1\n",
      "DOG, FIGHTING;  OWNING, FIGHTING, OR ATTENDING FIGHT            1\n",
      "ASSAULT, AGGRAVATED, ON POLICE OFFICER, W/ FULL AUTO            1\n",
      "DRUG LAB APPARATUS, POSSESSION                                  1\n",
      "ESCAPE FROM HOSPITAL WITH FORCE                                 1\n",
      "TERRORIZING BY MARKING PRIVATE PROPERTY                         1\n",
      "CABLE TV CONNECTION OR DECODING DEVICE, UNAUTHORIZED            1\n",
      "EMBEZZLEMENT, GRAND THEFT BY PROPERTY CARRIER                   1\n",
      "Name: Descript, dtype: int64\n",
      "\n",
      "+++ Frequency count for variable DayOfWeek +++\n",
      "\n",
      "Friday       133734\n",
      "Wednesday    129211\n",
      "Saturday     126810\n",
      "Thursday     125038\n",
      "Tuesday      124965\n",
      "Monday       121584\n",
      "Sunday       116707\n",
      "Name: DayOfWeek, dtype: int64\n",
      "\n",
      "+++ Frequency count for variable PdDistrict +++\n",
      "\n",
      "SOUTHERN      157182\n",
      "MISSION       119908\n",
      "NORTHERN      105296\n",
      "BAYVIEW        89431\n",
      "CENTRAL        85460\n",
      "TENDERLOIN     81809\n",
      "INGLESIDE      78845\n",
      "TARAVAL        65596\n",
      "PARK           49313\n",
      "RICHMOND       45209\n",
      "Name: PdDistrict, dtype: int64\n",
      "\n",
      "+++ Frequency count for variable Resolution +++\n",
      "\n",
      "NONE                                      526790\n",
      "ARREST, BOOKED                            206403\n",
      "ARREST, CITED                              77004\n",
      "LOCATED                                    17101\n",
      "PSYCHOPATHIC CASE                          14534\n",
      "UNFOUNDED                                   9585\n",
      "JUVENILE BOOKED                             5564\n",
      "COMPLAINANT REFUSES TO PROSECUTE            3976\n",
      "DISTRICT ATTORNEY REFUSES TO PROSECUTE      3934\n",
      "NOT PROSECUTED                              3714\n",
      "JUVENILE CITED                              3332\n",
      "PROSECUTED BY OUTSIDE AGENCY                2504\n",
      "EXCEPTIONAL CLEARANCE                       1530\n",
      "JUVENILE ADMONISHED                         1455\n",
      "JUVENILE DIVERTED                            355\n",
      "CLEARED-CONTACT JUVENILE FOR MORE INFO       217\n",
      "PROSECUTED FOR LESSER OFFENSE                 51\n",
      "Name: Resolution, dtype: int64\n",
      "\n",
      "+++ Frequency count for variable Address +++\n",
      "\n",
      "800 Block of BRYANT ST                26533\n",
      "800 Block of MARKET ST                 6581\n",
      "2000 Block of MISSION ST               5097\n",
      "1000 Block of POTRERO AV               4063\n",
      "900 Block of MARKET ST                 3251\n",
      "0 Block of TURK ST                     3228\n",
      "0 Block of 6TH ST                      2884\n",
      "300 Block of ELLIS ST                  2703\n",
      "400 Block of ELLIS ST                  2590\n",
      "16TH ST / MISSION ST                   2504\n",
      "1000 Block of MARKET ST                2489\n",
      "1100 Block of MARKET ST                2319\n",
      "2000 Block of MARKET ST                2168\n",
      "100 Block of OFARRELL ST               2140\n",
      "700 Block of MARKET ST                 2081\n",
      "3200 Block of 20TH AV                  2035\n",
      "100 Block of 6TH ST                    1887\n",
      "500 Block of JOHNFKENNEDY DR           1824\n",
      "TURK ST / TAYLOR ST                    1810\n",
      "200 Block of TURK ST                   1800\n",
      "0 Block of PHELAN AV                   1791\n",
      "0 Block of UNITEDNATIONS PZ            1789\n",
      "0 Block of POWELL ST                   1717\n",
      "100 Block of EDDY ST                   1681\n",
      "1400 Block of PHELPS ST                1629\n",
      "300 Block of EDDY ST                   1589\n",
      "100 Block of GOLDEN GATE AV            1353\n",
      "100 Block of POWELL ST                 1333\n",
      "200 Block of INTERSTATE80 HY           1316\n",
      "MISSION ST / 16TH ST                   1300\n",
      "                                      ...  \n",
      "APPLETON AV / GLADYS ST                   1\n",
      "POINTLOBOS AV / 46TH AV                   1\n",
      "OCEAN AV / GELLERT DR                     1\n",
      "DIAMOND ST / 28TH ST                      1\n",
      "1000 Block of ESMERALDA AV                1\n",
      "400 Block of CHAINOFLAKES DR              1\n",
      "32ND AV / EL CAMINO DEL MAR               1\n",
      "POINTLOBOS AV / 45TH AV                   1\n",
      "PORTOLA DR / MARNE AV                     1\n",
      "CRANE ST / BAY SHORE BL                   1\n",
      "GENEVA AV /                               1\n",
      "SILLIMAN ST / VALMAR TR                   1\n",
      "MARKET ST / ROSE ST                       1\n",
      "MEDA AV / DELANO AV                       1\n",
      "ROSEMONT PL / 14TH ST                     1\n",
      "BROADWAY ST / NORMANDIE TR                1\n",
      "CAYUGA AV / FOOTE AV                      1\n",
      "SAN JOSE AV / NAGLEE AV                   1\n",
      "BUENA VISTA WEST AV / FREDERICK ST        1\n",
      "33RD AV / IRVING ST                       1\n",
      "PORTOLA DR / TERRACE DR                   1\n",
      "45TH AV / ORTEGA ST                       1\n",
      "FRANCE AV / LISBON ST                     1\n",
      "FAXON AV / MONTANA ST                     1\n",
      "35TH AV / ORTEGA ST                       1\n",
      "900 Block of PHELPS ST                    1\n",
      "ORDWAY ST / SOMERSET ST                   1\n",
      "WARREN DR / DEVONSHIRE WY                 1\n",
      "1200 Block of TWIN PEAKS BL               1\n",
      "STONECREST DR / WINSTON DR                1\n",
      "Name: Address, dtype: int64\n",
      "\n",
      "+++ Frequency count for variable X +++\n",
      "\n",
      "-122.403405    26354\n",
      "-122.419658     4449\n",
      "-122.406539     3891\n",
      "-122.407634     3170\n",
      "-122.419672     3006\n",
      "-122.409854     2533\n",
      "-122.406521     2329\n",
      "-122.466205     2182\n",
      "-122.475647     2019\n",
      "-122.426956     1991\n",
      "-122.407244     1954\n",
      "-122.452290     1696\n",
      "-122.413564     1658\n",
      "-122.410769     1626\n",
      "-122.394439     1622\n",
      "-122.411071     1609\n",
      "-122.410294     1605\n",
      "-122.413609     1491\n",
      "-122.414056     1452\n",
      "-122.411966     1439\n",
      "-122.407845     1380\n",
      "-122.412515     1326\n",
      "-122.365565     1300\n",
      "-122.409530     1269\n",
      "-122.411988     1264\n",
      "-122.412784     1179\n",
      "-122.414312     1177\n",
      "-122.413238     1164\n",
      "-122.406605     1151\n",
      "-122.408068     1144\n",
      "               ...  \n",
      "-122.473554        1\n",
      "-122.394111        1\n",
      "-122.460230        1\n",
      "-122.480749        1\n",
      "-122.460623        1\n",
      "-122.388988        1\n",
      "-122.466806        1\n",
      "-122.413299        1\n",
      "-122.507127        1\n",
      "-122.416615        1\n",
      "-122.443859        1\n",
      "-122.404620        1\n",
      "-122.401743        1\n",
      "-122.464781        1\n",
      "-122.462333        1\n",
      "-122.416065        1\n",
      "-122.506956        1\n",
      "-122.408646        1\n",
      "-122.485491        1\n",
      "-122.402143        1\n",
      "-122.450656        1\n",
      "-122.399271        1\n",
      "-122.445806        1\n",
      "-122.438079        1\n",
      "-122.418805        1\n",
      "-122.381797        1\n",
      "-122.409431        1\n",
      "-122.469077        1\n",
      "-122.484722        1\n",
      "-122.451959        1\n",
      "Name: X, dtype: int64\n",
      "\n",
      "+++ Frequency count for variable Y +++\n",
      "\n",
      "37.775421    26354\n",
      "37.764221     4449\n",
      "37.756486     3891\n",
      "37.784189     3170\n",
      "37.765050     3006\n",
      "37.783386     2533\n",
      "37.785063     2329\n",
      "37.772541     2182\n",
      "37.728528     2019\n",
      "37.769247     1991\n",
      "37.786565     1954\n",
      "37.725693     1696\n",
      "37.779514     1658\n",
      "37.783215     1626\n",
      "37.736444     1622\n",
      "37.781751     1609\n",
      "37.782231     1605\n",
      "37.784697     1491\n",
      "37.782793     1452\n",
      "37.784914     1439\n",
      "37.785094     1380\n",
      "37.780478     1326\n",
      "37.809671     1300\n",
      "37.765718     1269\n",
      "37.785023     1264\n",
      "37.784866     1179\n",
      "37.779834     1177\n",
      "37.782843     1164\n",
      "37.757158     1151\n",
      "37.783992     1144\n",
      "             ...  \n",
      "37.710266        1\n",
      "37.758404        1\n",
      "37.727074        1\n",
      "37.786372        1\n",
      "37.725520        1\n",
      "37.789716        1\n",
      "37.774662        1\n",
      "37.739154        1\n",
      "37.732348        1\n",
      "37.792077        1\n",
      "37.749916        1\n",
      "37.754140        1\n",
      "37.740467        1\n",
      "37.752380        1\n",
      "37.805205        1\n",
      "37.748133        1\n",
      "37.728928        1\n",
      "37.743529        1\n",
      "37.738388        1\n",
      "37.766866        1\n",
      "37.718895        1\n",
      "37.745036        1\n",
      "37.709951        1\n",
      "37.776077        1\n",
      "37.779813        1\n",
      "37.712336        1\n",
      "37.737524        1\n",
      "37.726742        1\n",
      "37.710556        1\n",
      "37.713809        1\n",
      "Name: Y, dtype: int64\n"
     ]
    }
   ],
   "source": [
    "columns = ['Dates','Category','Descript','DayOfWeek','PdDistrict','Resolution','Address','X','Y']\n",
    "for column in columns:\n",
    "    print ('\\n+++ Frequency count for variable %s +++\\n'%column)\n",
    "    print (training_data[column].value_counts())"
   ]
  },
  {
   "cell_type": "markdown",
   "metadata": {},
   "source": [
    "### Categorical values"
   ]
  },
  {
   "cell_type": "markdown",
   "metadata": {},
   "source": [
    "#### Mining association rules\n",
    "1. Create a new dataframe with only categorical values\n",
    "2. Use FP growth to mine association rules"
   ]
  },
  {
   "cell_type": "code",
   "execution_count": 20,
   "metadata": {
    "collapsed": false
   },
   "outputs": [
    {
     "data": {
      "text/html": [
       "<div>\n",
       "<table border=\"1\" class=\"dataframe\">\n",
       "  <thead>\n",
       "    <tr style=\"text-align: right;\">\n",
       "      <th></th>\n",
       "      <th>Category</th>\n",
       "      <th>Descript</th>\n",
       "      <th>DayOfWeek</th>\n",
       "      <th>PdDistrict</th>\n",
       "      <th>Resolution</th>\n",
       "      <th>Address</th>\n",
       "    </tr>\n",
       "  </thead>\n",
       "  <tbody>\n",
       "    <tr>\n",
       "      <th>0</th>\n",
       "      <td>WARRANTS</td>\n",
       "      <td>WARRANT ARREST</td>\n",
       "      <td>Wednesday</td>\n",
       "      <td>NORTHERN</td>\n",
       "      <td>ARREST, BOOKED</td>\n",
       "      <td>OAK ST / LAGUNA ST</td>\n",
       "    </tr>\n",
       "    <tr>\n",
       "      <th>1</th>\n",
       "      <td>OTHER OFFENSES</td>\n",
       "      <td>TRAFFIC VIOLATION ARREST</td>\n",
       "      <td>Wednesday</td>\n",
       "      <td>NORTHERN</td>\n",
       "      <td>ARREST, BOOKED</td>\n",
       "      <td>OAK ST / LAGUNA ST</td>\n",
       "    </tr>\n",
       "  </tbody>\n",
       "</table>\n",
       "</div>"
      ],
      "text/plain": [
       "         Category                  Descript  DayOfWeek PdDistrict  \\\n",
       "0        WARRANTS            WARRANT ARREST  Wednesday   NORTHERN   \n",
       "1  OTHER OFFENSES  TRAFFIC VIOLATION ARREST  Wednesday   NORTHERN   \n",
       "\n",
       "       Resolution             Address  \n",
       "0  ARREST, BOOKED  OAK ST / LAGUNA ST  \n",
       "1  ARREST, BOOKED  OAK ST / LAGUNA ST  "
      ]
     },
     "execution_count": 20,
     "metadata": {},
     "output_type": "execute_result"
    }
   ],
   "source": [
    "#Category \tDescript \tDayOfWeek \tPdDistrict \tResolution \tAddress\n",
    "\n",
    "categorical_vals = training_data[['Category','Descript','DayOfWeek','PdDistrict','Resolution','Address']]\n",
    "categorical_vals.head(2)\n"
   ]
  },
  {
   "cell_type": "code",
   "execution_count": 21,
   "metadata": {
    "collapsed": false
   },
   "outputs": [],
   "source": [
    "categorical_vals.to_csv('/Users/user/Jupyter/datasets/SFCCC_dataset/categorical_vals.csv', index=False)"
   ]
  },
  {
   "cell_type": "code",
   "execution_count": 25,
   "metadata": {
    "collapsed": false
   },
   "outputs": [],
   "source": [
    "import Orange\n",
    "data = Orange.data.Table(\"/Users/user/Jupyter/datasets/SFCCC_dataset/categorical_vals.csv\")"
   ]
  },
  {
   "cell_type": "code",
   "execution_count": 26,
   "metadata": {
    "collapsed": false
   },
   "outputs": [
    {
     "data": {
      "text/plain": [
       "(DiscreteVariable('Category', values=['ARSON', 'ASSAULT', 'BAD CHECKS', 'BRIBERY', 'BURGLARY', ...]),\n",
       " DiscreteVariable('Descript', values=['ABANDONMENT OF CHILD', 'ABORTION', 'ACCESS CARD INFORMATION, PUBLICATION OF', 'ACCESS CARD INFORMATION, THEFT OF', 'ACCIDENTAL BURNS', ...]),\n",
       " DiscreteVariable('DayOfWeek', values=['Friday', 'Monday', 'Saturday', 'Sunday', 'Thursday', ...]),\n",
       " DiscreteVariable('PdDistrict', values=['BAYVIEW', 'CENTRAL', 'INGLESIDE', 'MISSION', 'NORTHERN', ...]),\n",
       " DiscreteVariable('Resolution', values=['ARREST, BOOKED', 'ARREST, CITED', 'CLEARED-CONTACT JUVENILE FOR MORE INFO', 'COMPLAINANT REFUSES TO PROSECUTE', 'DISTRICT ATTORNEY REFUSES TO PROSECUTE', ...]))"
      ]
     },
     "execution_count": 26,
     "metadata": {},
     "output_type": "execute_result"
    }
   ],
   "source": [
    "data.domain.attributes"
   ]
  },
  {
   "cell_type": "code",
   "execution_count": 28,
   "metadata": {
    "collapsed": false
   },
   "outputs": [],
   "source": [
    "from orangecontrib.associate.fpgrowth import *  \n",
    "X, mapping = OneHot.encode(data, include_class=True)"
   ]
  },
  {
   "cell_type": "code",
   "execution_count": null,
   "metadata": {
    "collapsed": false
   },
   "outputs": [],
   "source": []
  },
  {
   "cell_type": "code",
   "execution_count": null,
   "metadata": {
    "collapsed": false
   },
   "outputs": [],
   "source": []
  },
  {
   "cell_type": "code",
   "execution_count": null,
   "metadata": {
    "collapsed": true
   },
   "outputs": [],
   "source": []
  },
  {
   "cell_type": "code",
   "execution_count": null,
   "metadata": {
    "collapsed": false
   },
   "outputs": [],
   "source": []
  },
  {
   "cell_type": "code",
   "execution_count": null,
   "metadata": {
    "collapsed": false
   },
   "outputs": [],
   "source": []
  },
  {
   "cell_type": "code",
   "execution_count": null,
   "metadata": {
    "collapsed": false
   },
   "outputs": [],
   "source": []
  },
  {
   "cell_type": "code",
   "execution_count": null,
   "metadata": {
    "collapsed": false
   },
   "outputs": [],
   "source": []
  },
  {
   "cell_type": "code",
   "execution_count": null,
   "metadata": {
    "collapsed": false
   },
   "outputs": [],
   "source": []
  },
  {
   "cell_type": "code",
   "execution_count": null,
   "metadata": {
    "collapsed": false
   },
   "outputs": [],
   "source": []
  },
  {
   "cell_type": "code",
   "execution_count": null,
   "metadata": {
    "collapsed": false
   },
   "outputs": [],
   "source": []
  },
  {
   "cell_type": "code",
   "execution_count": null,
   "metadata": {
    "collapsed": false
   },
   "outputs": [],
   "source": []
  },
  {
   "cell_type": "code",
   "execution_count": null,
   "metadata": {
    "collapsed": false
   },
   "outputs": [],
   "source": []
  },
  {
   "cell_type": "code",
   "execution_count": null,
   "metadata": {
    "collapsed": false
   },
   "outputs": [],
   "source": []
  },
  {
   "cell_type": "code",
   "execution_count": null,
   "metadata": {
    "collapsed": false
   },
   "outputs": [],
   "source": []
  },
  {
   "cell_type": "code",
   "execution_count": null,
   "metadata": {
    "collapsed": false
   },
   "outputs": [],
   "source": []
  },
  {
   "cell_type": "code",
   "execution_count": null,
   "metadata": {
    "collapsed": true
   },
   "outputs": [],
   "source": []
  },
  {
   "cell_type": "code",
   "execution_count": null,
   "metadata": {
    "collapsed": true
   },
   "outputs": [],
   "source": []
  },
  {
   "cell_type": "code",
   "execution_count": null,
   "metadata": {
    "collapsed": true
   },
   "outputs": [],
   "source": []
  },
  {
   "cell_type": "code",
   "execution_count": null,
   "metadata": {
    "collapsed": true
   },
   "outputs": [],
   "source": []
  },
  {
   "cell_type": "code",
   "execution_count": null,
   "metadata": {
    "collapsed": true
   },
   "outputs": [],
   "source": []
  },
  {
   "cell_type": "code",
   "execution_count": null,
   "metadata": {
    "collapsed": true
   },
   "outputs": [],
   "source": []
  },
  {
   "cell_type": "code",
   "execution_count": null,
   "metadata": {
    "collapsed": true
   },
   "outputs": [],
   "source": []
  },
  {
   "cell_type": "markdown",
   "metadata": {},
   "source": [
    "### numerical values"
   ]
  },
  {
   "cell_type": "code",
   "execution_count": null,
   "metadata": {
    "collapsed": true
   },
   "outputs": [],
   "source": []
  },
  {
   "cell_type": "code",
   "execution_count": null,
   "metadata": {
    "collapsed": true
   },
   "outputs": [],
   "source": []
  },
  {
   "cell_type": "code",
   "execution_count": null,
   "metadata": {
    "collapsed": true
   },
   "outputs": [],
   "source": []
  },
  {
   "cell_type": "code",
   "execution_count": null,
   "metadata": {
    "collapsed": true
   },
   "outputs": [],
   "source": []
  },
  {
   "cell_type": "code",
   "execution_count": null,
   "metadata": {
    "collapsed": true
   },
   "outputs": [],
   "source": []
  },
  {
   "cell_type": "markdown",
   "metadata": {},
   "source": [
    "### Model fiting & CV"
   ]
  },
  {
   "cell_type": "code",
   "execution_count": null,
   "metadata": {
    "collapsed": true
   },
   "outputs": [],
   "source": []
  },
  {
   "cell_type": "code",
   "execution_count": null,
   "metadata": {
    "collapsed": true
   },
   "outputs": [],
   "source": []
  }
 ],
 "metadata": {
  "kernelspec": {
   "display_name": "Python 3",
   "language": "python",
   "name": "python3"
  },
  "language_info": {
   "codemirror_mode": {
    "name": "ipython",
    "version": 3
   },
   "file_extension": ".py",
   "mimetype": "text/x-python",
   "name": "python",
   "nbconvert_exporter": "python",
   "pygments_lexer": "ipython3",
   "version": "3.5.1"
  }
 },
 "nbformat": 4,
 "nbformat_minor": 0
}
