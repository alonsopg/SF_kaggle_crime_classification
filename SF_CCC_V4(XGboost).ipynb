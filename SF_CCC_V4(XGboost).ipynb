{
 "cells": [
  {
   "cell_type": "markdown",
   "metadata": {},
   "source": [
    "# SF Crime Classification Challenge\n",
    "\n",
    "My approach for the kaggle's San Francisco Crime Classification challenge."
   ]
  },
  {
   "cell_type": "markdown",
   "metadata": {},
   "source": [
    "### Data exploration"
   ]
  },
  {
   "cell_type": "code",
   "execution_count": 1,
   "metadata": {
    "collapsed": false
   },
   "outputs": [
    {
     "name": "stdout",
     "output_type": "stream",
     "text": [
      "last updated: 2016-07-12 \n",
      "\n",
      "CPython 3.5.1\n",
      "IPython 4.2.0\n",
      "\n",
      "pyprind 2.9.8\n"
     ]
    }
   ],
   "source": [
    "import pandas as pd\n",
    "import numpy as np\n",
    "%matplotlib inline\n",
    "%load_ext watermark\n",
    "%watermark -v -d -u -p pyprind"
   ]
  },
  {
   "cell_type": "code",
   "execution_count": 2,
   "metadata": {
    "collapsed": false
   },
   "outputs": [
    {
     "data": {
      "text/html": [
       "<div>\n",
       "<table border=\"1\" class=\"dataframe\">\n",
       "  <thead>\n",
       "    <tr style=\"text-align: right;\">\n",
       "      <th></th>\n",
       "      <th>Dates</th>\n",
       "      <th>Category</th>\n",
       "      <th>Descript</th>\n",
       "      <th>DayOfWeek</th>\n",
       "      <th>PdDistrict</th>\n",
       "      <th>Resolution</th>\n",
       "      <th>Address</th>\n",
       "      <th>X</th>\n",
       "      <th>Y</th>\n",
       "    </tr>\n",
       "  </thead>\n",
       "  <tbody>\n",
       "    <tr>\n",
       "      <th>878047</th>\n",
       "      <td>2003-01-06 00:01:00</td>\n",
       "      <td>VANDALISM</td>\n",
       "      <td>MALICIOUS MISCHIEF, VANDALISM OF VEHICLES</td>\n",
       "      <td>Monday</td>\n",
       "      <td>SOUTHERN</td>\n",
       "      <td>NONE</td>\n",
       "      <td>TOWNSEND ST / 2ND ST</td>\n",
       "      <td>-122.390531</td>\n",
       "      <td>37.780607</td>\n",
       "    </tr>\n",
       "    <tr>\n",
       "      <th>878048</th>\n",
       "      <td>2003-01-06 00:01:00</td>\n",
       "      <td>FORGERY/COUNTERFEITING</td>\n",
       "      <td>CHECKS, FORGERY (FELONY)</td>\n",
       "      <td>Monday</td>\n",
       "      <td>BAYVIEW</td>\n",
       "      <td>NONE</td>\n",
       "      <td>1800 Block of NEWCOMB AV</td>\n",
       "      <td>-122.394926</td>\n",
       "      <td>37.738212</td>\n",
       "    </tr>\n",
       "  </tbody>\n",
       "</table>\n",
       "</div>"
      ],
      "text/plain": [
       "                      Dates                Category  \\\n",
       "878047  2003-01-06 00:01:00               VANDALISM   \n",
       "878048  2003-01-06 00:01:00  FORGERY/COUNTERFEITING   \n",
       "\n",
       "                                         Descript DayOfWeek PdDistrict  \\\n",
       "878047  MALICIOUS MISCHIEF, VANDALISM OF VEHICLES    Monday   SOUTHERN   \n",
       "878048                   CHECKS, FORGERY (FELONY)    Monday    BAYVIEW   \n",
       "\n",
       "       Resolution                   Address           X          Y  \n",
       "878047       NONE      TOWNSEND ST / 2ND ST -122.390531  37.780607  \n",
       "878048       NONE  1800 Block of NEWCOMB AV -122.394926  37.738212  "
      ]
     },
     "execution_count": 2,
     "metadata": {},
     "output_type": "execute_result"
    }
   ],
   "source": [
    "training_data = pd.read_csv('/Users/user/Jupyter/datasets/SFCCC_dataset/train 2.csv')\n",
    "training_data.tail(2)"
   ]
  },
  {
   "cell_type": "code",
   "execution_count": 3,
   "metadata": {
    "collapsed": false
   },
   "outputs": [],
   "source": [
    "training_data = training_data.sample(frac=0.5)"
   ]
  },
  {
   "cell_type": "code",
   "execution_count": 4,
   "metadata": {
    "collapsed": false
   },
   "outputs": [
    {
     "data": {
      "text/html": [
       "<div>\n",
       "<table border=\"1\" class=\"dataframe\">\n",
       "  <thead>\n",
       "    <tr style=\"text-align: right;\">\n",
       "      <th></th>\n",
       "      <th>Dates</th>\n",
       "      <th>Category</th>\n",
       "      <th>Descript</th>\n",
       "      <th>DayOfWeek</th>\n",
       "      <th>PdDistrict</th>\n",
       "      <th>Resolution</th>\n",
       "      <th>Address</th>\n",
       "      <th>X</th>\n",
       "      <th>Y</th>\n",
       "    </tr>\n",
       "  </thead>\n",
       "  <tbody>\n",
       "    <tr>\n",
       "      <th>793717</th>\n",
       "      <td>2004-02-20 03:30:00</td>\n",
       "      <td>MISSING PERSON</td>\n",
       "      <td>FOUND PERSON</td>\n",
       "      <td>Friday</td>\n",
       "      <td>TARAVAL</td>\n",
       "      <td>LOCATED</td>\n",
       "      <td>0 Block of THRIFT ST</td>\n",
       "      <td>-122.455319</td>\n",
       "      <td>37.717428</td>\n",
       "    </tr>\n",
       "    <tr>\n",
       "      <th>581044</th>\n",
       "      <td>2007-02-22 09:00:00</td>\n",
       "      <td>OTHER OFFENSES</td>\n",
       "      <td>OBSCENE PHONE CALLS(S)</td>\n",
       "      <td>Thursday</td>\n",
       "      <td>SOUTHERN</td>\n",
       "      <td>NONE</td>\n",
       "      <td>800 Block of BRANNAN ST</td>\n",
       "      <td>-122.404385</td>\n",
       "      <td>37.772196</td>\n",
       "    </tr>\n",
       "  </tbody>\n",
       "</table>\n",
       "</div>"
      ],
      "text/plain": [
       "                      Dates        Category                Descript DayOfWeek  \\\n",
       "793717  2004-02-20 03:30:00  MISSING PERSON            FOUND PERSON    Friday   \n",
       "581044  2007-02-22 09:00:00  OTHER OFFENSES  OBSCENE PHONE CALLS(S)  Thursday   \n",
       "\n",
       "       PdDistrict Resolution                  Address           X          Y  \n",
       "793717    TARAVAL    LOCATED     0 Block of THRIFT ST -122.455319  37.717428  \n",
       "581044   SOUTHERN       NONE  800 Block of BRANNAN ST -122.404385  37.772196  "
      ]
     },
     "execution_count": 4,
     "metadata": {},
     "output_type": "execute_result"
    }
   ],
   "source": [
    "training_data.tail(2)"
   ]
  },
  {
   "cell_type": "code",
   "execution_count": 5,
   "metadata": {
    "collapsed": false
   },
   "outputs": [
    {
     "data": {
      "text/html": [
       "<div>\n",
       "<table border=\"1\" class=\"dataframe\">\n",
       "  <thead>\n",
       "    <tr style=\"text-align: right;\">\n",
       "      <th></th>\n",
       "      <th>Dates</th>\n",
       "      <th>Category</th>\n",
       "      <th>Descript</th>\n",
       "      <th>DayOfWeek</th>\n",
       "      <th>PdDistrict</th>\n",
       "      <th>Resolution</th>\n",
       "      <th>Address</th>\n",
       "      <th>X</th>\n",
       "      <th>Y</th>\n",
       "    </tr>\n",
       "  </thead>\n",
       "  <tbody>\n",
       "    <tr>\n",
       "      <th>878047</th>\n",
       "      <td>2003-01-06 00:01:00</td>\n",
       "      <td>VANDALISM</td>\n",
       "      <td>MALICIOUS MISCHIEF, VANDALISM OF VEHICLES</td>\n",
       "      <td>Monday</td>\n",
       "      <td>SOUTHERN</td>\n",
       "      <td>NONE</td>\n",
       "      <td>TOWNSEND ST / 2ND ST</td>\n",
       "      <td>-122.390531</td>\n",
       "      <td>37.780607</td>\n",
       "    </tr>\n",
       "    <tr>\n",
       "      <th>878048</th>\n",
       "      <td>2003-01-06 00:01:00</td>\n",
       "      <td>FORGERY/COUNTERFEITING</td>\n",
       "      <td>CHECKS, FORGERY (FELONY)</td>\n",
       "      <td>Monday</td>\n",
       "      <td>BAYVIEW</td>\n",
       "      <td>NONE</td>\n",
       "      <td>1800 Block of NEWCOMB AV</td>\n",
       "      <td>-122.394926</td>\n",
       "      <td>37.738212</td>\n",
       "    </tr>\n",
       "  </tbody>\n",
       "</table>\n",
       "</div>"
      ],
      "text/plain": [
       "                      Dates                Category  \\\n",
       "878047  2003-01-06 00:01:00               VANDALISM   \n",
       "878048  2003-01-06 00:01:00  FORGERY/COUNTERFEITING   \n",
       "\n",
       "                                         Descript DayOfWeek PdDistrict  \\\n",
       "878047  MALICIOUS MISCHIEF, VANDALISM OF VEHICLES    Monday   SOUTHERN   \n",
       "878048                   CHECKS, FORGERY (FELONY)    Monday    BAYVIEW   \n",
       "\n",
       "       Resolution                   Address           X          Y  \n",
       "878047       NONE      TOWNSEND ST / 2ND ST -122.390531  37.780607  \n",
       "878048       NONE  1800 Block of NEWCOMB AV -122.394926  37.738212  "
      ]
     },
     "execution_count": 5,
     "metadata": {},
     "output_type": "execute_result"
    }
   ],
   "source": [
    "testing_data = pd.read_csv('/Users/user/Jupyter/datasets/SFCCC_dataset/train 2.csv')\n",
    "testing_data.tail(2)"
   ]
  },
  {
   "cell_type": "markdown",
   "metadata": {},
   "source": [
    "Let's split the `Dates` column in order to see if we can model a time or date feature:"
   ]
  },
  {
   "cell_type": "markdown",
   "metadata": {},
   "source": [
    "## Training data"
   ]
  },
  {
   "cell_type": "code",
   "execution_count": 6,
   "metadata": {
    "collapsed": false
   },
   "outputs": [
    {
     "data": {
      "text/html": [
       "<div>\n",
       "<table border=\"1\" class=\"dataframe\">\n",
       "  <thead>\n",
       "    <tr style=\"text-align: right;\">\n",
       "      <th></th>\n",
       "      <th>Dates</th>\n",
       "      <th>Category</th>\n",
       "      <th>Descript</th>\n",
       "      <th>DayOfWeek</th>\n",
       "      <th>PdDistrict</th>\n",
       "      <th>Resolution</th>\n",
       "      <th>Address</th>\n",
       "      <th>X</th>\n",
       "      <th>Y</th>\n",
       "      <th>Time</th>\n",
       "    </tr>\n",
       "  </thead>\n",
       "  <tbody>\n",
       "    <tr>\n",
       "      <th>793717</th>\n",
       "      <td>2004-02-20</td>\n",
       "      <td>MISSING PERSON</td>\n",
       "      <td>FOUND PERSON</td>\n",
       "      <td>Friday</td>\n",
       "      <td>TARAVAL</td>\n",
       "      <td>LOCATED</td>\n",
       "      <td>0 Block of THRIFT ST</td>\n",
       "      <td>-122.455319</td>\n",
       "      <td>37.717428</td>\n",
       "      <td>03:30:00</td>\n",
       "    </tr>\n",
       "    <tr>\n",
       "      <th>581044</th>\n",
       "      <td>2007-02-22</td>\n",
       "      <td>OTHER OFFENSES</td>\n",
       "      <td>OBSCENE PHONE CALLS(S)</td>\n",
       "      <td>Thursday</td>\n",
       "      <td>SOUTHERN</td>\n",
       "      <td>NONE</td>\n",
       "      <td>800 Block of BRANNAN ST</td>\n",
       "      <td>-122.404385</td>\n",
       "      <td>37.772196</td>\n",
       "      <td>09:00:00</td>\n",
       "    </tr>\n",
       "  </tbody>\n",
       "</table>\n",
       "</div>"
      ],
      "text/plain": [
       "             Dates        Category                Descript DayOfWeek  \\\n",
       "793717  2004-02-20  MISSING PERSON            FOUND PERSON    Friday   \n",
       "581044  2007-02-22  OTHER OFFENSES  OBSCENE PHONE CALLS(S)  Thursday   \n",
       "\n",
       "       PdDistrict Resolution                  Address           X          Y  \\\n",
       "793717    TARAVAL    LOCATED     0 Block of THRIFT ST -122.455319  37.717428   \n",
       "581044   SOUTHERN       NONE  800 Block of BRANNAN ST -122.404385  37.772196   \n",
       "\n",
       "            Time  \n",
       "793717  03:30:00  \n",
       "581044  09:00:00  "
      ]
     },
     "execution_count": 6,
     "metadata": {},
     "output_type": "execute_result"
    }
   ],
   "source": [
    "training_data[\"Dates\"], training_data[\"Time\"] = zip(*training_data[\"Dates\"].str.split().tolist())\n",
    "training_data.tail(2)\n",
    "# If we wanted to delete the dates or time column:\n",
    "#del training_data[\"Dates\"] "
   ]
  },
  {
   "cell_type": "markdown",
   "metadata": {},
   "source": [
    "## Testing data"
   ]
  },
  {
   "cell_type": "markdown",
   "metadata": {},
   "source": [
    "Let's apply the previous procedure just to give coherence to our data:"
   ]
  },
  {
   "cell_type": "code",
   "execution_count": 7,
   "metadata": {
    "collapsed": false,
    "scrolled": true
   },
   "outputs": [
    {
     "data": {
      "text/html": [
       "<div>\n",
       "<table border=\"1\" class=\"dataframe\">\n",
       "  <thead>\n",
       "    <tr style=\"text-align: right;\">\n",
       "      <th></th>\n",
       "      <th>Dates</th>\n",
       "      <th>Category</th>\n",
       "      <th>Descript</th>\n",
       "      <th>DayOfWeek</th>\n",
       "      <th>PdDistrict</th>\n",
       "      <th>Resolution</th>\n",
       "      <th>Address</th>\n",
       "      <th>X</th>\n",
       "      <th>Y</th>\n",
       "      <th>Time</th>\n",
       "    </tr>\n",
       "  </thead>\n",
       "  <tbody>\n",
       "    <tr>\n",
       "      <th>878047</th>\n",
       "      <td>2003-01-06</td>\n",
       "      <td>VANDALISM</td>\n",
       "      <td>MALICIOUS MISCHIEF, VANDALISM OF VEHICLES</td>\n",
       "      <td>Monday</td>\n",
       "      <td>SOUTHERN</td>\n",
       "      <td>NONE</td>\n",
       "      <td>TOWNSEND ST / 2ND ST</td>\n",
       "      <td>-122.390531</td>\n",
       "      <td>37.780607</td>\n",
       "      <td>00:01:00</td>\n",
       "    </tr>\n",
       "    <tr>\n",
       "      <th>878048</th>\n",
       "      <td>2003-01-06</td>\n",
       "      <td>FORGERY/COUNTERFEITING</td>\n",
       "      <td>CHECKS, FORGERY (FELONY)</td>\n",
       "      <td>Monday</td>\n",
       "      <td>BAYVIEW</td>\n",
       "      <td>NONE</td>\n",
       "      <td>1800 Block of NEWCOMB AV</td>\n",
       "      <td>-122.394926</td>\n",
       "      <td>37.738212</td>\n",
       "      <td>00:01:00</td>\n",
       "    </tr>\n",
       "  </tbody>\n",
       "</table>\n",
       "</div>"
      ],
      "text/plain": [
       "             Dates                Category  \\\n",
       "878047  2003-01-06               VANDALISM   \n",
       "878048  2003-01-06  FORGERY/COUNTERFEITING   \n",
       "\n",
       "                                         Descript DayOfWeek PdDistrict  \\\n",
       "878047  MALICIOUS MISCHIEF, VANDALISM OF VEHICLES    Monday   SOUTHERN   \n",
       "878048                   CHECKS, FORGERY (FELONY)    Monday    BAYVIEW   \n",
       "\n",
       "       Resolution                   Address           X          Y      Time  \n",
       "878047       NONE      TOWNSEND ST / 2ND ST -122.390531  37.780607  00:01:00  \n",
       "878048       NONE  1800 Block of NEWCOMB AV -122.394926  37.738212  00:01:00  "
      ]
     },
     "execution_count": 7,
     "metadata": {},
     "output_type": "execute_result"
    }
   ],
   "source": [
    "testing_data[\"Dates\"], testing_data[\"Time\"] = zip(*testing_data[\"Dates\"].str.split().tolist())\n",
    "testing_data.tail(2)\n",
    "# If we wanted to delete the dates or time column:\n",
    "#del training_data[\"Dates\"] "
   ]
  },
  {
   "cell_type": "markdown",
   "metadata": {},
   "source": [
    "I will just save them into a new .csv file:"
   ]
  },
  {
   "cell_type": "code",
   "execution_count": 8,
   "metadata": {
    "collapsed": false
   },
   "outputs": [],
   "source": [
    "training_data.to_csv('/Users/user/Jupyter/datasets/SFCCC_dataset/preprocessed_train.csv', index=False)\n",
    "testing_data.to_csv('/Users/user/Jupyter/datasets/SFCCC_dataset/preprocessed_test.csv', index=False)"
   ]
  },
  {
   "cell_type": "code",
   "execution_count": 9,
   "metadata": {
    "collapsed": false
   },
   "outputs": [
    {
     "data": {
      "text/plain": [
       "((439024, 10), (878049, 10))"
      ]
     },
     "execution_count": 9,
     "metadata": {},
     "output_type": "execute_result"
    }
   ],
   "source": [
    "training_data.shape, testing_data.shape"
   ]
  },
  {
   "cell_type": "code",
   "execution_count": 10,
   "metadata": {
    "collapsed": false
   },
   "outputs": [
    {
     "data": {
      "text/plain": [
       "Dates          object\n",
       "Category       object\n",
       "Descript       object\n",
       "DayOfWeek      object\n",
       "PdDistrict     object\n",
       "Resolution     object\n",
       "Address        object\n",
       "X             float64\n",
       "Y             float64\n",
       "Time           object\n",
       "dtype: object"
      ]
     },
     "execution_count": 10,
     "metadata": {},
     "output_type": "execute_result"
    }
   ],
   "source": [
    "training_data.dtypes"
   ]
  },
  {
   "cell_type": "code",
   "execution_count": 11,
   "metadata": {
    "collapsed": false
   },
   "outputs": [
    {
     "data": {
      "text/plain": [
       "Dates          object\n",
       "Category       object\n",
       "Descript       object\n",
       "DayOfWeek      object\n",
       "PdDistrict     object\n",
       "Resolution     object\n",
       "Address        object\n",
       "X             float64\n",
       "Y             float64\n",
       "Time           object\n",
       "dtype: object"
      ]
     },
     "execution_count": 11,
     "metadata": {},
     "output_type": "execute_result"
    }
   ],
   "source": [
    "testing_data.dtypes"
   ]
  },
  {
   "cell_type": "markdown",
   "metadata": {},
   "source": [
    "### Check missing values"
   ]
  },
  {
   "cell_type": "code",
   "execution_count": 12,
   "metadata": {
    "collapsed": false
   },
   "outputs": [
    {
     "data": {
      "text/plain": [
       "Dates         0\n",
       "Category      0\n",
       "Descript      0\n",
       "DayOfWeek     0\n",
       "PdDistrict    0\n",
       "Resolution    0\n",
       "Address       0\n",
       "X             0\n",
       "Y             0\n",
       "Time          0\n",
       "dtype: int64"
      ]
     },
     "execution_count": 12,
     "metadata": {},
     "output_type": "execute_result"
    }
   ],
   "source": [
    "training_data.apply(lambda x: sum(x.isnull()))"
   ]
  },
  {
   "cell_type": "code",
   "execution_count": 13,
   "metadata": {
    "collapsed": false
   },
   "outputs": [
    {
     "data": {
      "text/plain": [
       "Dates         0\n",
       "Category      0\n",
       "Descript      0\n",
       "DayOfWeek     0\n",
       "PdDistrict    0\n",
       "Resolution    0\n",
       "Address       0\n",
       "X             0\n",
       "Y             0\n",
       "Time          0\n",
       "dtype: int64"
      ]
     },
     "execution_count": 13,
     "metadata": {},
     "output_type": "execute_result"
    }
   ],
   "source": [
    "testing_data.apply(lambda x: sum(x.isnull()))"
   ]
  },
  {
   "cell_type": "markdown",
   "metadata": {},
   "source": [
    "### Look at categories of all object variables:"
   ]
  },
  {
   "cell_type": "code",
   "execution_count": 14,
   "metadata": {
    "collapsed": false
   },
   "outputs": [
    {
     "name": "stdout",
     "output_type": "stream",
     "text": [
      "\n",
      "+++ Frequency count for variable Dates +++\n",
      "\n",
      "2011-01-01    332\n",
      "2013-11-01    314\n",
      "2006-01-01    311\n",
      "2013-10-04    292\n",
      "2004-04-01    278\n",
      "2003-10-01    276\n",
      "2012-10-01    272\n",
      "2014-08-09    272\n",
      "2003-11-01    271\n",
      "2013-06-01    269\n",
      "2004-09-01    268\n",
      "2013-04-05    266\n",
      "2013-06-30    265\n",
      "2013-08-09    264\n",
      "2012-10-17    262\n",
      "2014-04-19    262\n",
      "2012-10-06    261\n",
      "2004-04-27    260\n",
      "2003-04-01    260\n",
      "2013-08-19    260\n",
      "2013-09-06    259\n",
      "2013-01-25    259\n",
      "2006-10-06    259\n",
      "2007-11-01    258\n",
      "2005-07-01    258\n",
      "2004-04-17    258\n",
      "2009-09-01    258\n",
      "2014-10-29    257\n",
      "2009-11-01    256\n",
      "2013-03-08    256\n",
      "             ... \n",
      "2004-11-25    138\n",
      "2010-02-23    138\n",
      "2005-12-26    138\n",
      "2009-02-08    138\n",
      "2010-07-26    137\n",
      "2008-04-02    136\n",
      "2006-12-28    135\n",
      "2010-04-11    133\n",
      "2011-04-24    132\n",
      "2009-11-26    132\n",
      "2011-07-11    132\n",
      "2011-07-12    131\n",
      "2004-12-26    131\n",
      "2009-12-26    131\n",
      "2008-11-27    130\n",
      "2006-03-12    128\n",
      "2009-12-25    127\n",
      "2014-12-25    126\n",
      "2013-12-26    126\n",
      "2004-09-19    126\n",
      "2006-12-25    116\n",
      "2003-12-25    108\n",
      "2004-12-25    107\n",
      "2007-12-25    107\n",
      "2008-12-25    104\n",
      "2013-12-23    102\n",
      "2012-12-25     92\n",
      "2013-12-24     89\n",
      "2013-12-25     79\n",
      "2007-12-16      2\n",
      "Name: Dates, dtype: int64\n",
      "\n",
      "+++ Frequency count for variable Category +++\n",
      "\n",
      "LARCENY/THEFT                  87491\n",
      "OTHER OFFENSES                 63201\n",
      "NON-CRIMINAL                   46364\n",
      "ASSAULT                        38238\n",
      "DRUG/NARCOTIC                  27011\n",
      "VEHICLE THEFT                  26873\n",
      "VANDALISM                      22532\n",
      "WARRANTS                       20959\n",
      "BURGLARY                       18364\n",
      "SUSPICIOUS OCC                 15761\n",
      "MISSING PERSON                 12988\n",
      "ROBBERY                        11570\n",
      "FRAUD                           8193\n",
      "FORGERY/COUNTERFEITING          5231\n",
      "SECONDARY CODES                 5002\n",
      "WEAPON LAWS                     4282\n",
      "PROSTITUTION                    3710\n",
      "TRESPASS                        3649\n",
      "STOLEN PROPERTY                 2250\n",
      "SEX OFFENSES FORCIBLE           2202\n",
      "DRUNKENNESS                     2194\n",
      "DISORDERLY CONDUCT              2102\n",
      "RECOVERED VEHICLE               1571\n",
      "KIDNAPPING                      1156\n",
      "DRIVING UNDER THE INFLUENCE     1143\n",
      "RUNAWAY                          968\n",
      "LIQUOR LAWS                      967\n",
      "ARSON                            742\n",
      "LOITERING                        618\n",
      "EMBEZZLEMENT                     561\n",
      "FAMILY OFFENSES                  242\n",
      "SUICIDE                          242\n",
      "BAD CHECKS                       210\n",
      "BRIBERY                          143\n",
      "EXTORTION                        127\n",
      "SEX OFFENSES NON FORCIBLE         78\n",
      "GAMBLING                          75\n",
      "PORNOGRAPHY/OBSCENE MAT           11\n",
      "TREA                               3\n",
      "Name: Category, dtype: int64\n",
      "\n",
      "+++ Frequency count for variable Descript +++\n",
      "\n",
      "GRAND THEFT FROM LOCKED AUTO                                                 30220\n",
      "LOST PROPERTY                                                                15982\n",
      "BATTERY                                                                      13640\n",
      "STOLEN AUTOMOBILE                                                            13527\n",
      "DRIVERS LICENSE, SUSPENDED OR REVOKED                                        13473\n",
      "WARRANT ARREST                                                               11883\n",
      "SUSPICIOUS OCCURRENCE                                                        10989\n",
      "AIDED CASE, MENTAL DISTURBED                                                 10841\n",
      "PETTY THEFT FROM LOCKED AUTO                                                  9869\n",
      "MALICIOUS MISCHIEF, VANDALISM OF VEHICLES                                     8896\n",
      "TRAFFIC VIOLATION                                                             8236\n",
      "MALICIOUS MISCHIEF, VANDALISM                                                 8131\n",
      "PETTY THEFT OF PROPERTY                                                       8055\n",
      "THREATS AGAINST LIFE                                                          7322\n",
      "FOUND PROPERTY                                                                6101\n",
      "ENROUTE TO OUTSIDE JURISDICTION                                               5633\n",
      "GRAND THEFT OF PROPERTY                                                       5430\n",
      "PETTY THEFT FROM A BUILDING                                                   5064\n",
      "POSSESSION OF NARCOTICS PARAPHERNALIA                                         5007\n",
      "PETTY THEFT SHOPLIFTING                                                       4724\n",
      "GRAND THEFT FROM A BUILDING                                                   4703\n",
      "FOUND PERSON                                                                  4655\n",
      "RESISTING ARREST                                                              4415\n",
      "CREDIT CARD, THEFT BY USE OF                                                  4382\n",
      "MISSING JUVENILE                                                              4280\n",
      "STOLEN TRUCK                                                                  4233\n",
      "MISCELLANEOUS INVESTIGATION                                                   4198\n",
      "MISSING ADULT                                                                 4053\n",
      "VEHICLE, RECOVERED, AUTO                                                      4046\n",
      "PROBATION VIOLATION                                                           3990\n",
      "                                                                             ...  \n",
      "PUSH-CART PEDDLER PERMIT VIOLATION                                               1\n",
      "DESTROYING JAIL PROPERTY-OVER $200                                               1\n",
      "ASSAULT, AGGRAVATED, W/ MACHINE GUN                                              1\n",
      "SCHOOL GROUNDS, ENTRY BY SEX OFFENDER                                            1\n",
      "FALSE REPRESENTATION TO SECONDHAND DEALER                                        1\n",
      "DOG, FIGHTING;  OWNING, FIGHTING, OR ATTENDING FIGHT                             1\n",
      "PLACING WIFE IN HOUSE OF PROSTITUTION                                            1\n",
      "SALE OF OPIUM DERIVATIVE                                                         1\n",
      "OBSCENE MATTER, DISTRIBUTION TO MINORS                                           1\n",
      "ROBBERY OF A BANK WITH A KNIFE                                                   1\n",
      "ESCAPE OF PRISONER WHILE HOSPITALIZED                                            1\n",
      "BURGLARY,FLAT UNDER CONSTRUCTION, ATT. FORCIBLE                                  1\n",
      "ESCAPES                                                                          1\n",
      "ASSAULT TO ROB WITH BODILY FORCE                                                 1\n",
      "COUNTERFEITING, PLATES OR DIES                                                   1\n",
      "BURGLARY,WAREHOUSE UNDER CONSTRT, ATT. FORCIBLE                                  1\n",
      "CRIMES AGAINST REVENUE & PROPERTY OF STATE                                       1\n",
      "EMBEZZLEMENT, GRAND THEFT BY PROPERTY CARRIER                                    1\n",
      "ATTEMPTED SUICIDE BY FIRE                                                        1\n",
      "DESTRUCTIVE DEVICE, POSSESSION OF MATERIALS                                      1\n",
      "BURGLARY,HOTEL UNDER CONSTRUCTION, ATT. FORCIBLE                                 1\n",
      "PUTTING SLUGS IN TELEPHONE BOX                                                   1\n",
      "BOOKMAKING                                                                       1\n",
      "POSSESSION OF BARBITUATES FOR SALES                                              1\n",
      "EMBEZZLEMENT, PETTY THEFT PRIVATE PROPERTY                                       1\n",
      "CITIZENSHIP OR ALIEN REGISTRATION, MAKING FALSE DOCUMENT                         1\n",
      "DESTROYING JAIL PROPERTY-$200 OR UNDER                                           1\n",
      "ASSAULT, AGGRAVATED, W/ SEMI AUTO                                                1\n",
      "ATTEMPTED RAPE, ARMED WITH A DANGEROUS WEAPON                                    1\n",
      "SCHOOL STUDENT OR EMPLOYEE ENTERING  CAMPUS AFTER SUSPENSION OR DISMISSAL        1\n",
      "Name: Descript, dtype: int64\n",
      "\n",
      "+++ Frequency count for variable DayOfWeek +++\n",
      "\n",
      "Friday       66760\n",
      "Wednesday    64713\n",
      "Saturday     63432\n",
      "Thursday     62622\n",
      "Tuesday      62308\n",
      "Monday       60868\n",
      "Sunday       58321\n",
      "Name: DayOfWeek, dtype: int64\n",
      "\n",
      "+++ Frequency count for variable PdDistrict +++\n",
      "\n",
      "SOUTHERN      78529\n",
      "MISSION       60242\n",
      "NORTHERN      52804\n",
      "BAYVIEW       44925\n",
      "CENTRAL       42675\n",
      "TENDERLOIN    40847\n",
      "INGLESIDE     39091\n",
      "TARAVAL       32631\n",
      "PARK          24767\n",
      "RICHMOND      22513\n",
      "Name: PdDistrict, dtype: int64\n",
      "\n",
      "+++ Frequency count for variable Resolution +++\n",
      "\n",
      "NONE                                      263669\n",
      "ARREST, BOOKED                            102961\n",
      "ARREST, CITED                              38607\n",
      "LOCATED                                     8579\n",
      "PSYCHOPATHIC CASE                           7287\n",
      "UNFOUNDED                                   4701\n",
      "JUVENILE BOOKED                             2817\n",
      "COMPLAINANT REFUSES TO PROSECUTE            1993\n",
      "DISTRICT ATTORNEY REFUSES TO PROSECUTE      1968\n",
      "NOT PROSECUTED                              1782\n",
      "JUVENILE CITED                              1633\n",
      "PROSECUTED BY OUTSIDE AGENCY                1232\n",
      "EXCEPTIONAL CLEARANCE                        749\n",
      "JUVENILE ADMONISHED                          738\n",
      "JUVENILE DIVERTED                            186\n",
      "CLEARED-CONTACT JUVENILE FOR MORE INFO        95\n",
      "PROSECUTED FOR LESSER OFFENSE                 27\n",
      "Name: Resolution, dtype: int64\n",
      "\n",
      "+++ Frequency count for variable Address +++\n",
      "\n",
      "800 Block of BRYANT ST          13089\n",
      "800 Block of MARKET ST           3277\n",
      "2000 Block of MISSION ST         2547\n",
      "1000 Block of POTRERO AV         2083\n",
      "900 Block of MARKET ST           1640\n",
      "0 Block of TURK ST               1634\n",
      "0 Block of 6TH ST                1453\n",
      "300 Block of ELLIS ST            1334\n",
      "400 Block of ELLIS ST            1291\n",
      "1000 Block of MARKET ST          1230\n",
      "16TH ST / MISSION ST             1229\n",
      "1100 Block of MARKET ST          1175\n",
      "2000 Block of MARKET ST          1097\n",
      "100 Block of OFARRELL ST         1059\n",
      "700 Block of MARKET ST           1011\n",
      "3200 Block of 20TH AV            1003\n",
      "500 Block of JOHNFKENNEDY DR      947\n",
      "100 Block of 6TH ST               939\n",
      "200 Block of TURK ST              916\n",
      "0 Block of UNITEDNATIONS PZ       902\n",
      "0 Block of PHELAN AV              899\n",
      "TURK ST / TAYLOR ST               895\n",
      "0 Block of POWELL ST              867\n",
      "100 Block of EDDY ST              866\n",
      "300 Block of EDDY ST              797\n",
      "1400 Block of PHELPS ST           790\n",
      "200 Block of INTERSTATE80 HY      691\n",
      "MISSION ST / 16TH ST              672\n",
      "100 Block of GOLDEN GATE AV       664\n",
      "100 Block of POWELL ST            660\n",
      "                                ...  \n",
      "3300 Block of WAWONA ST             1\n",
      "BEVERLY ST / GARFIELD ST            1\n",
      "CAMELLIA AV / SILVER AV             1\n",
      "BELVEDERE ST / ALMA ST              1\n",
      "2100 Block of LAWTON ST             1\n",
      "3RD AV / HUGO ST                    1\n",
      "28TH AV / CALIFORNIA ST             1\n",
      "TEDDY AV / ELLIOT ST                1\n",
      "IRVING ST / 39TH AV                 1\n",
      "CERVANTES BL / PRADO ST             1\n",
      "DORLAND ST / SANCHEZ ST             1\n",
      "4800 Block of CABRILLO ST           1\n",
      "JOY ST / HOLLADAY AV                1\n",
      "400 Block of SANJUAN AV             1\n",
      "LAWTON ST / 12TH AV                 1\n",
      "TOLAND ST / HUDSON AV               1\n",
      "100 Block of SPRUCE ST              1\n",
      "MILEY ST / BAKER ST                 1\n",
      "DOUGLASS ST / 28TH ST               1\n",
      "GEARY BL / 31ST AV                  1\n",
      "PRENTISS ST / TOMPKINS AV           1\n",
      "LATHROP AV / TUNNEL AV              1\n",
      "BERNARD ST / TAYLOR ST              1\n",
      "600 Block of LOS PALMOS DR          1\n",
      "COLTON ST / GOUGH ST                1\n",
      "BRENHAM PL / WASHINGTON ST          1\n",
      "2500 Block of GREAT HWY             1\n",
      "LANDERS ST / ALERT AL               1\n",
      "VALLEJO ST / HYDE ST                1\n",
      "KIRKHAM ST / FUNSTON AV             1\n",
      "Name: Address, dtype: int64\n",
      "\n",
      "+++ Frequency count for variable X +++\n",
      "\n",
      "-122.403405    13004\n",
      "-122.419658     2230\n",
      "-122.406539     1995\n",
      "-122.407634     1572\n",
      "-122.419672     1496\n",
      "-122.409854     1289\n",
      "-122.406521     1171\n",
      "-122.466205     1114\n",
      "-122.426956     1016\n",
      "-122.475647      992\n",
      "-122.407244      964\n",
      "-122.452290      854\n",
      "-122.413564      833\n",
      "-122.410294      818\n",
      "-122.410769      808\n",
      "-122.394439      783\n",
      "-122.411071      774\n",
      "-122.414056      738\n",
      "-122.413609      731\n",
      "-122.407845      705\n",
      "-122.411966      700\n",
      "-122.365565      685\n",
      "-122.412515      655\n",
      "-122.409530      643\n",
      "-122.411988      634\n",
      "-122.414312      605\n",
      "-122.413238      586\n",
      "-122.408068      569\n",
      "-122.412784      562\n",
      "-122.413631      560\n",
      "               ...  \n",
      "-122.476079        1\n",
      "-122.468583        1\n",
      "-122.430778        1\n",
      "-122.424886        1\n",
      "-122.437485        1\n",
      "-122.411585        1\n",
      "-122.408368        1\n",
      "-122.494819        1\n",
      "-122.506155        1\n",
      "-122.410908        1\n",
      "-122.427302        1\n",
      "-122.407424        1\n",
      "-122.402673        1\n",
      "-122.503124        1\n",
      "-122.455276        1\n",
      "-122.494969        1\n",
      "-122.404506        1\n",
      "-122.484900        1\n",
      "-122.481468        1\n",
      "-122.439193        1\n",
      "-122.442004        1\n",
      "-122.493905        1\n",
      "-122.496312        1\n",
      "-122.439283        1\n",
      "-122.495651        1\n",
      "-122.478896        1\n",
      "-122.489323        1\n",
      "-122.438167        1\n",
      "-122.449845        1\n",
      "-122.435260        1\n",
      "Name: X, dtype: int64\n",
      "\n",
      "+++ Frequency count for variable Y +++\n",
      "\n",
      "37.775421    13004\n",
      "37.764221     2230\n",
      "37.756486     1995\n",
      "37.784189     1572\n",
      "37.765050     1496\n",
      "37.783386     1289\n",
      "37.785063     1171\n",
      "37.772541     1114\n",
      "37.769247     1016\n",
      "37.728528      992\n",
      "37.786565      964\n",
      "37.725693      854\n",
      "37.779514      833\n",
      "37.782231      818\n",
      "37.783215      808\n",
      "37.736444      783\n",
      "37.781751      774\n",
      "37.782793      738\n",
      "37.784697      731\n",
      "37.785094      705\n",
      "37.784914      700\n",
      "37.809671      685\n",
      "37.780478      655\n",
      "37.765718      643\n",
      "37.785023      634\n",
      "37.779834      605\n",
      "37.782843      586\n",
      "37.783992      569\n",
      "37.784866      562\n",
      "37.784805      560\n",
      "             ...  \n",
      "37.764393        1\n",
      "37.729800        1\n",
      "37.802889        1\n",
      "37.746388        1\n",
      "37.718531        1\n",
      "37.800485        1\n",
      "37.757752        1\n",
      "37.723583        1\n",
      "37.709540        1\n",
      "37.756600        1\n",
      "37.759091        1\n",
      "37.741472        1\n",
      "37.803501        1\n",
      "37.737004        1\n",
      "37.745832        1\n",
      "37.758173        1\n",
      "37.749180        1\n",
      "37.743748        1\n",
      "37.802722        1\n",
      "37.789580        1\n",
      "37.778115        1\n",
      "37.711850        1\n",
      "37.730896        1\n",
      "37.764350        1\n",
      "37.785758        1\n",
      "37.740092        1\n",
      "37.729342        1\n",
      "37.731482        1\n",
      "37.738415        1\n",
      "37.723777        1\n",
      "Name: Y, dtype: int64\n",
      "\n",
      "+++ Frequency count for variable Time +++\n",
      "\n",
      "12:00:00    11160\n",
      "00:01:00    10983\n",
      "18:00:00     9726\n",
      "17:00:00     8600\n",
      "19:00:00     8075\n",
      "20:00:00     8034\n",
      "22:00:00     7837\n",
      "21:00:00     7642\n",
      "16:00:00     7485\n",
      "15:00:00     7444\n",
      "23:00:00     6834\n",
      "14:00:00     6692\n",
      "09:00:00     6318\n",
      "10:00:00     6151\n",
      "13:00:00     6146\n",
      "08:00:00     5905\n",
      "11:00:00     5244\n",
      "18:30:00     4242\n",
      "17:30:00     4046\n",
      "19:30:00     3903\n",
      "16:30:00     3662\n",
      "01:00:00     3650\n",
      "15:30:00     3563\n",
      "20:30:00     3519\n",
      "22:30:00     3459\n",
      "21:30:00     3403\n",
      "14:30:00     3159\n",
      "02:00:00     3153\n",
      "23:30:00     3121\n",
      "13:30:00     3099\n",
      "            ...  \n",
      "05:23:00       24\n",
      "05:14:00       24\n",
      "04:53:00       24\n",
      "05:56:00       24\n",
      "06:01:00       23\n",
      "05:21:00       23\n",
      "05:52:00       23\n",
      "06:21:00       23\n",
      "04:32:00       22\n",
      "04:49:00       22\n",
      "05:31:00       22\n",
      "06:03:00       22\n",
      "06:18:00       21\n",
      "05:32:00       21\n",
      "05:37:00       21\n",
      "06:06:00       21\n",
      "06:12:00       21\n",
      "05:06:00       21\n",
      "04:54:00       20\n",
      "04:46:00       20\n",
      "06:09:00       19\n",
      "05:49:00       19\n",
      "05:04:00       19\n",
      "05:54:00       18\n",
      "04:56:00       18\n",
      "06:13:00       18\n",
      "05:19:00       16\n",
      "05:38:00       16\n",
      "06:11:00       15\n",
      "05:28:00       13\n",
      "Name: Time, dtype: int64\n"
     ]
    }
   ],
   "source": [
    "columns = ['Dates','Category','Descript'\\\n",
    "           ,'DayOfWeek','PdDistrict','Resolution','Address','X','Y', 'Time']\n",
    "\n",
    "for column in columns:\n",
    "    print ('\\n+++ Frequency count for variable %s +++\\n'%column)\n",
    "    print (training_data[column].value_counts())"
   ]
  },
  {
   "cell_type": "code",
   "execution_count": 15,
   "metadata": {
    "collapsed": false
   },
   "outputs": [
    {
     "data": {
      "text/plain": [
       "OTHER OFFENSES     68\n",
       "NON-CRIMINAL       52\n",
       "LARCENY/THEFT      48\n",
       "ASSAULT            34\n",
       "SUSPICIOUS OCC     22\n",
       "VANDALISM          14\n",
       "BURGLARY           12\n",
       "FRAUD              11\n",
       "SECONDARY CODES    10\n",
       "MISSING PERSON      9\n",
       "Name: Category, dtype: int64"
      ]
     },
     "execution_count": 15,
     "metadata": {},
     "output_type": "execute_result"
    }
   ],
   "source": [
    "training_data.loc[training_data.Dates == \"2011-01-01\", \"Category\"].value_counts().sort_values()[::-1][:10]"
   ]
  },
  {
   "cell_type": "code",
   "execution_count": null,
   "metadata": {
    "collapsed": false
   },
   "outputs": [],
   "source": []
  },
  {
   "cell_type": "code",
   "execution_count": null,
   "metadata": {
    "collapsed": true
   },
   "outputs": [],
   "source": []
  },
  {
   "cell_type": "code",
   "execution_count": null,
   "metadata": {
    "collapsed": true
   },
   "outputs": [],
   "source": []
  },
  {
   "cell_type": "markdown",
   "metadata": {},
   "source": [
    "### Categorical values"
   ]
  },
  {
   "cell_type": "markdown",
   "metadata": {},
   "source": []
  },
  {
   "cell_type": "code",
   "execution_count": 16,
   "metadata": {
    "collapsed": false
   },
   "outputs": [
    {
     "data": {
      "text/plain": [
       "array(['2006-02-07', '2008-10-29', '2010-02-10', ..., '2013-01-25',\n",
       "       '2004-02-20', '2007-02-22'], dtype=object)"
      ]
     },
     "execution_count": 16,
     "metadata": {},
     "output_type": "execute_result"
    }
   ],
   "source": [
    "training_data['Dates'].values"
   ]
  },
  {
   "cell_type": "code",
   "execution_count": 17,
   "metadata": {
    "collapsed": false
   },
   "outputs": [
    {
     "name": "stdout",
     "output_type": "stream",
     "text": [
      "(439024, 5)\n",
      "<class 'numpy.ndarray'>\n",
      "(439024,)\n",
      "<class 'numpy.ndarray'>\n"
     ]
    }
   ],
   "source": [
    "#Dates \tCategory \tDescript DayOfWeek \tPdDistrict \tResolution \tAddress \tX \tY \tTime\n",
    "from sklearn import preprocessing\n",
    "\n",
    "dates_le = preprocessing.LabelEncoder()\n",
    "category_le = preprocessing.LabelEncoder()\n",
    "day_of_week_le = preprocessing.LabelEncoder()\n",
    "pd_district_le = preprocessing.LabelEncoder()\n",
    "resolution_le = preprocessing.LabelEncoder()\n",
    "time_le = preprocessing.LabelEncoder()\n",
    "\n",
    "dates_feats = dates_le.fit_transform(training_data.Dates)\n",
    "category_feats= category_le.fit_transform(training_data.Category)\n",
    "day_of_week_feats= day_of_week_le.fit_transform(training_data.DayOfWeek)\n",
    "pd_district_feats= pd_district_le.fit_transform(training_data.Descript)\n",
    "resolution_feats=resolution_le.fit_transform(training_data.Resolution)\n",
    "time_feats= time_le.fit_transform(training_data.Time)\n",
    "\n",
    "import scipy as sparse\n",
    "\n",
    "X_combined_features = sparse.vstack([dates_feats, \\\n",
    "                                     day_of_week_feats, pd_district_feats, \\\n",
    "                                     resolution_feats,time_feats]).T\n",
    "y = category_feats\n",
    "\n",
    "print (X_combined_features.shape)\n",
    "print(type(X_combined_features))\n",
    "print(y.shape)\n",
    "print(type(y))\n",
    "\n"
   ]
  },
  {
   "cell_type": "markdown",
   "metadata": {},
   "source": [
    "### PCA"
   ]
  },
  {
   "cell_type": "code",
   "execution_count": null,
   "metadata": {
    "collapsed": false
   },
   "outputs": [],
   "source": [
    "from sklearn.decomposition import PCA\n",
    "X_combined_features = PCA(n_components=1).fit_transform(X_combined_features)\n",
    "type(X_combined_features)\n",
    "X_combined_features.shape"
   ]
  },
  {
   "cell_type": "code",
   "execution_count": 18,
   "metadata": {
    "collapsed": false
   },
   "outputs": [],
   "source": [
    "from sklearn import cross_validation\n",
    "#Usamos una estrategia Cross validation ShuffleSplit:\n",
    "#(http://scikit-learn.org/stable/modules/generated/sklearn.cross_validation.ShuffleSplit.html\n",
    "#sklearn.cross_validation.ShuffleSplit)\n",
    "ss = cross_validation.KFold(n = len(y), )\n",
    "\n",
    "import numpy\n",
    "numpy.set_printoptions(threshold=numpy.nan)\n",
    "\n",
    "\n",
    "for train_index, test_index in ss:\n",
    "    \"\\n \\n Entrenamiento 30% de 2598:\\n\", train_index,\"\\n \\n Prueba 70% de 2598:\\n\", test_index\n",
    "    X_train, X_test = X_combined_features[train_index], X_combined_features[test_index]\n",
    "    y_train, y_test = y[train_index], y[test_index]\n",
    "\n",
    "\n",
    "y_=[]\n",
    "prediction_=[]"
   ]
  },
  {
   "cell_type": "code",
   "execution_count": 21,
   "metadata": {
    "collapsed": false
   },
   "outputs": [
    {
     "name": "stderr",
     "output_type": "stream",
     "text": [
      "XGboost Fitting time:\n",
      "0%                                         100%\n",
      "[█████████████████████████████████████████████] | ETA: 00:00:00\n",
      "Total time elapsed: 02:54:56\n",
      "\n",
      "XGboost classification time:\n",
      "0%                                         100%\n",
      "[                                             ]/usr/local/lib/python3.5/site-packages/xgboost/core.py:840: VisibleDeprecationWarning: using a non-integer number instead of an integer will result in an error in the future\n",
      "  preds = preds.reshape(nrow, preds.size / nrow)\n",
      "[#############################################] | ETA: 00:00:00\n",
      "Total time elapsed: 00:13:01\n"
     ]
    },
    {
     "ename": "AttributeError",
     "evalue": "'XGBClassifier' object has no attribute 'predict_log_proba'",
     "output_type": "error",
     "traceback": [
      "\u001b[0;31m---------------------------------------------------------------------------\u001b[0m",
      "\u001b[0;31mAttributeError\u001b[0m                            Traceback (most recent call last)",
      "\u001b[0;32m<ipython-input-21-b95f9dcba3b4>\u001b[0m in \u001b[0;36m<module>\u001b[0;34m()\u001b[0m\n\u001b[1;32m     22\u001b[0m \u001b[0my_\u001b[0m\u001b[0;34m.\u001b[0m\u001b[0mextend\u001b[0m\u001b[0;34m(\u001b[0m\u001b[0my_test\u001b[0m\u001b[0;34m)\u001b[0m\u001b[0;34m\u001b[0m\u001b[0m\n\u001b[1;32m     23\u001b[0m \u001b[0mprediction_\u001b[0m\u001b[0;34m.\u001b[0m\u001b[0mextend\u001b[0m\u001b[0;34m(\u001b[0m\u001b[0mprediction\u001b[0m\u001b[0;34m)\u001b[0m\u001b[0;34m\u001b[0m\u001b[0m\n\u001b[0;32m---> 24\u001b[0;31m \u001b[0mlog_proba\u001b[0m \u001b[0;34m=\u001b[0m \u001b[0mclf\u001b[0m\u001b[0;34m.\u001b[0m\u001b[0mpredict_log_proba\u001b[0m\u001b[0;34m(\u001b[0m\u001b[0mX_test\u001b[0m\u001b[0;34m)\u001b[0m\u001b[0;34m\u001b[0m\u001b[0m\n\u001b[0m\u001b[1;32m     25\u001b[0m \u001b[0;34m\u001b[0m\u001b[0m\n\u001b[1;32m     26\u001b[0m \u001b[0;31m#Return probabilities, useful for data submision\u001b[0m\u001b[0;34m\u001b[0m\u001b[0;34m\u001b[0m\u001b[0m\n",
      "\u001b[0;31mAttributeError\u001b[0m: 'XGBClassifier' object has no attribute 'predict_log_proba'"
     ]
    }
   ],
   "source": [
    "from sklearn.linear_model import SGDClassifier\n",
    "from xgboost import XGBClassifier\n",
    "from sklearn.metrics import accuracy_score\n",
    "import pyprind\n",
    "\n",
    "#Compute training time elapsed\n",
    "pbar = pyprind.ProgBar(45, title='XGboost Fitting time:', width=120, bar_char='█')\n",
    "for _ in range(45):\n",
    "    #Fiting\n",
    "    clf = XGBClassifier().fit(X_train, y_train)\n",
    "    pbar.update()\n",
    "#End of bar\n",
    "    \n",
    "\n",
    "#Compute predicting time elapsed\n",
    "pbar2 = pyprind.ProgBar(45, title='\\nXGboost classification time:', width=120, bar_char='#')\n",
    "for _ in range(45):\n",
    "    prediction = clf.predict(X_test)\n",
    "    pbar2.update()\n",
    "#End of bar\n",
    "\n",
    "y_.extend(y_test)\n",
    "prediction_.extend(prediction)"
   ]
  },
  {
   "cell_type": "code",
   "execution_count": null,
   "metadata": {
    "collapsed": true
   },
   "outputs": [],
   "source": [
    "#log_proba = clf.predict_log_proba(X_test)\n",
    "\n",
    "#Return probabilities, useful for data submision\n",
    "probabilistic_prediction = clf.predict_proba(X_test)"
   ]
  },
  {
   "cell_type": "code",
   "execution_count": 27,
   "metadata": {
    "collapsed": false
   },
   "outputs": [
    {
     "name": "stdout",
     "output_type": "stream",
     "text": [
      "prediction: (146341,)\n",
      "<class 'numpy.ndarray'>\n"
     ]
    }
   ],
   "source": [
    "print('prediction:',prediction.shape)\n",
    "#print('log_proba:',log_proba.shape)\n",
    "#print('probabilistic_prediction:',probabilistic_prediction.shape)\n",
    "\n",
    "print(type(prediction))\n",
    "#print(type(log_proba))\n",
    "#print(type(probabilistic_prediction))"
   ]
  },
  {
   "cell_type": "code",
   "execution_count": 28,
   "metadata": {
    "collapsed": false
   },
   "outputs": [
    {
     "name": "stdout",
     "output_type": "stream",
     "text": [
      "<class 'numpy.ndarray'>\n"
     ]
    },
    {
     "data": {
      "text/plain": [
       "(146341, 5)"
      ]
     },
     "execution_count": 28,
     "metadata": {},
     "output_type": "execute_result"
    }
   ],
   "source": [
    "print(type(X_test))\n",
    "X_test.shape"
   ]
  },
  {
   "cell_type": "code",
   "execution_count": null,
   "metadata": {
    "collapsed": false
   },
   "outputs": [],
   "source": [
    "df = pd.DataFrame(probabilistic_prediction.tolist())\n",
    "df.to_csv('/Users/user/Desktop/list.csv', index=False)"
   ]
  },
  {
   "cell_type": "markdown",
   "metadata": {},
   "source": [
    "### Metrics and evaluation"
   ]
  },
  {
   "cell_type": "code",
   "execution_count": 29,
   "metadata": {
    "collapsed": false
   },
   "outputs": [
    {
     "name": "stderr",
     "output_type": "stream",
     "text": [
      "/usr/local/lib/python3.5/site-packages/sklearn/cross_validation.py:516: Warning: The least populated class in y has only 1 members, which is too few. The minimum number of labels for any class cannot be less than n_folds=10.\n",
      "  % (min_labels, self.n_folds)), Warning)\n",
      "/usr/local/lib/python3.5/site-packages/xgboost/core.py:840: VisibleDeprecationWarning: using a non-integer number instead of an integer will result in an error in the future\n",
      "  preds = preds.reshape(nrow, preds.size / nrow)\n",
      "/usr/local/lib/python3.5/site-packages/xgboost/core.py:840: VisibleDeprecationWarning: using a non-integer number instead of an integer will result in an error in the future\n",
      "  preds = preds.reshape(nrow, preds.size / nrow)\n",
      "/usr/local/lib/python3.5/site-packages/xgboost/core.py:840: VisibleDeprecationWarning: using a non-integer number instead of an integer will result in an error in the future\n",
      "  preds = preds.reshape(nrow, preds.size / nrow)\n",
      "/usr/local/lib/python3.5/site-packages/xgboost/core.py:840: VisibleDeprecationWarning: using a non-integer number instead of an integer will result in an error in the future\n",
      "  preds = preds.reshape(nrow, preds.size / nrow)\n",
      "/usr/local/lib/python3.5/site-packages/xgboost/core.py:840: VisibleDeprecationWarning: using a non-integer number instead of an integer will result in an error in the future\n",
      "  preds = preds.reshape(nrow, preds.size / nrow)\n",
      "/usr/local/lib/python3.5/site-packages/xgboost/core.py:840: VisibleDeprecationWarning: using a non-integer number instead of an integer will result in an error in the future\n",
      "  preds = preds.reshape(nrow, preds.size / nrow)\n",
      "/usr/local/lib/python3.5/site-packages/xgboost/core.py:840: VisibleDeprecationWarning: using a non-integer number instead of an integer will result in an error in the future\n",
      "  preds = preds.reshape(nrow, preds.size / nrow)\n",
      "/usr/local/lib/python3.5/site-packages/xgboost/core.py:840: VisibleDeprecationWarning: using a non-integer number instead of an integer will result in an error in the future\n",
      "  preds = preds.reshape(nrow, preds.size / nrow)\n",
      "/usr/local/lib/python3.5/site-packages/xgboost/core.py:840: VisibleDeprecationWarning: using a non-integer number instead of an integer will result in an error in the future\n",
      "  preds = preds.reshape(nrow, preds.size / nrow)\n"
     ]
    },
    {
     "name": "stdout",
     "output_type": "stream",
     "text": [
      "\n",
      " acc_scores como arreglo: \n",
      " [ 0.99081535  0.99139432  0.9915289   0.99176659  0.99258601  0.99152571\n",
      "  0.99015856  0.99166069  0.99145474  0.99131683]\n",
      "\n",
      "Accuracy: 0.99 (+/- 0.00)\n"
     ]
    },
    {
     "name": "stderr",
     "output_type": "stream",
     "text": [
      "/usr/local/lib/python3.5/site-packages/xgboost/core.py:840: VisibleDeprecationWarning: using a non-integer number instead of an integer will result in an error in the future\n",
      "  preds = preds.reshape(nrow, preds.size / nrow)\n"
     ]
    }
   ],
   "source": [
    "from sklearn.metrics import accuracy_score\n",
    "acc_scores = cross_validation.cross_val_score(clf, X_train, y_train, cv=10)\n",
    "print(\"\\n acc_scores como arreglo: \\n\",acc_scores)\n",
    "print(\"\\nAccuracy: %0.2f (+/- %0.2f)\" % (acc_scores.mean(), acc_scores.std() * 2))"
   ]
  },
  {
   "cell_type": "code",
   "execution_count": 32,
   "metadata": {
    "collapsed": false
   },
   "outputs": [
    {
     "data": {
      "text/plain": [
       "['/Users/user/Jupyter/ml_notes/SF_CCC/xgboost_1.pkl',\n",
       " '/Users/user/Jupyter/ml_notes/SF_CCC/xgboost_1.pkl_01.npy']"
      ]
     },
     "execution_count": 32,
     "metadata": {},
     "output_type": "execute_result"
    }
   ],
   "source": [
    "from sklearn.externals import joblib\n",
    "joblib.dump(clf, '/Users/user/Jupyter/ml_notes/SF_CCC/xgboost_1.pkl')\n"
   ]
  },
  {
   "cell_type": "code",
   "execution_count": 33,
   "metadata": {
    "collapsed": false
   },
   "outputs": [
    {
     "name": "stderr",
     "output_type": "stream",
     "text": [
      "\n",
      "XGboost classification time:\n",
      "0%                                         100%\n",
      "[                                             ]/usr/local/lib/python3.5/site-packages/xgboost/core.py:840: VisibleDeprecationWarning: using a non-integer number instead of an integer will result in an error in the future\n",
      "  preds = preds.reshape(nrow, preds.size / nrow)\n",
      "[#############################################] | ETA: 00:00:00\n",
      "Total time elapsed: 00:11:42\n"
     ]
    }
   ],
   "source": [
    "clf2 = joblib.load('/Users/user/Jupyter/ml_notes/SF_CCC/xgboost_1.pkl')\n",
    "\n",
    "\n",
    "#Compute predicting time elapsed\n",
    "pbar2 = pyprind.ProgBar(45, title='\\nXGboost classification time:', width=120, bar_char='#')\n",
    "for _ in range(45):\n",
    "    prediction = clf2.predict(X_test)\n",
    "    pbar2.update()\n",
    "#End of bar\n",
    "\n"
   ]
  },
  {
   "cell_type": "code",
   "execution_count": 34,
   "metadata": {
    "collapsed": false
   },
   "outputs": [
    {
     "name": "stderr",
     "output_type": "stream",
     "text": [
      "/usr/local/lib/python3.5/site-packages/sklearn/cross_validation.py:516: Warning: The least populated class in y has only 1 members, which is too few. The minimum number of labels for any class cannot be less than n_folds=10.\n",
      "  % (min_labels, self.n_folds)), Warning)\n",
      "/usr/local/lib/python3.5/site-packages/xgboost/core.py:840: VisibleDeprecationWarning: using a non-integer number instead of an integer will result in an error in the future\n",
      "  preds = preds.reshape(nrow, preds.size / nrow)\n",
      "/usr/local/lib/python3.5/site-packages/xgboost/core.py:840: VisibleDeprecationWarning: using a non-integer number instead of an integer will result in an error in the future\n",
      "  preds = preds.reshape(nrow, preds.size / nrow)\n",
      "/usr/local/lib/python3.5/site-packages/xgboost/core.py:840: VisibleDeprecationWarning: using a non-integer number instead of an integer will result in an error in the future\n",
      "  preds = preds.reshape(nrow, preds.size / nrow)\n",
      "/usr/local/lib/python3.5/site-packages/xgboost/core.py:840: VisibleDeprecationWarning: using a non-integer number instead of an integer will result in an error in the future\n",
      "  preds = preds.reshape(nrow, preds.size / nrow)\n",
      "/usr/local/lib/python3.5/site-packages/xgboost/core.py:840: VisibleDeprecationWarning: using a non-integer number instead of an integer will result in an error in the future\n",
      "  preds = preds.reshape(nrow, preds.size / nrow)\n",
      "/usr/local/lib/python3.5/site-packages/xgboost/core.py:840: VisibleDeprecationWarning: using a non-integer number instead of an integer will result in an error in the future\n",
      "  preds = preds.reshape(nrow, preds.size / nrow)\n",
      "/usr/local/lib/python3.5/site-packages/xgboost/core.py:840: VisibleDeprecationWarning: using a non-integer number instead of an integer will result in an error in the future\n",
      "  preds = preds.reshape(nrow, preds.size / nrow)\n",
      "/usr/local/lib/python3.5/site-packages/xgboost/core.py:840: VisibleDeprecationWarning: using a non-integer number instead of an integer will result in an error in the future\n",
      "  preds = preds.reshape(nrow, preds.size / nrow)\n",
      "/usr/local/lib/python3.5/site-packages/xgboost/core.py:840: VisibleDeprecationWarning: using a non-integer number instead of an integer will result in an error in the future\n",
      "  preds = preds.reshape(nrow, preds.size / nrow)\n"
     ]
    },
    {
     "name": "stdout",
     "output_type": "stream",
     "text": [
      "\n",
      " acc_scores como arreglo: \n",
      " [ 0.99081535  0.99139432  0.9915289   0.99176659  0.99258601  0.99152571\n",
      "  0.99015856  0.99166069  0.99145474  0.99131683]\n",
      "\n",
      "Accuracy: 0.99 (+/- 0.00)\n"
     ]
    },
    {
     "name": "stderr",
     "output_type": "stream",
     "text": [
      "/usr/local/lib/python3.5/site-packages/xgboost/core.py:840: VisibleDeprecationWarning: using a non-integer number instead of an integer will result in an error in the future\n",
      "  preds = preds.reshape(nrow, preds.size / nrow)\n"
     ]
    }
   ],
   "source": [
    "from sklearn.metrics import accuracy_score\n",
    "acc_scores = cross_validation.cross_val_score(clf2, X_train, y_train, cv=10)\n",
    "print(\"\\n acc_scores como arreglo: \\n\",acc_scores)\n",
    "print(\"\\nAccuracy: %0.2f (+/- %0.2f)\" % (acc_scores.mean(), acc_scores.std() * 2))"
   ]
  },
  {
   "cell_type": "code",
   "execution_count": null,
   "metadata": {
    "collapsed": false
   },
   "outputs": [],
   "source": []
  },
  {
   "cell_type": "code",
   "execution_count": null,
   "metadata": {
    "collapsed": false
   },
   "outputs": [],
   "source": []
  },
  {
   "cell_type": "code",
   "execution_count": null,
   "metadata": {
    "collapsed": false
   },
   "outputs": [],
   "source": []
  },
  {
   "cell_type": "code",
   "execution_count": null,
   "metadata": {
    "collapsed": false
   },
   "outputs": [],
   "source": []
  },
  {
   "cell_type": "code",
   "execution_count": null,
   "metadata": {
    "collapsed": false
   },
   "outputs": [],
   "source": []
  },
  {
   "cell_type": "code",
   "execution_count": null,
   "metadata": {
    "collapsed": true
   },
   "outputs": [],
   "source": []
  },
  {
   "cell_type": "code",
   "execution_count": null,
   "metadata": {
    "collapsed": true
   },
   "outputs": [],
   "source": []
  },
  {
   "cell_type": "code",
   "execution_count": null,
   "metadata": {
    "collapsed": true
   },
   "outputs": [],
   "source": []
  },
  {
   "cell_type": "code",
   "execution_count": null,
   "metadata": {
    "collapsed": true
   },
   "outputs": [],
   "source": []
  },
  {
   "cell_type": "code",
   "execution_count": null,
   "metadata": {
    "collapsed": true
   },
   "outputs": [],
   "source": []
  },
  {
   "cell_type": "code",
   "execution_count": null,
   "metadata": {
    "collapsed": true
   },
   "outputs": [],
   "source": []
  },
  {
   "cell_type": "code",
   "execution_count": null,
   "metadata": {
    "collapsed": true
   },
   "outputs": [],
   "source": []
  },
  {
   "cell_type": "code",
   "execution_count": null,
   "metadata": {
    "collapsed": true
   },
   "outputs": [],
   "source": []
  },
  {
   "cell_type": "markdown",
   "metadata": {},
   "source": [
    "### numerical values"
   ]
  },
  {
   "cell_type": "code",
   "execution_count": null,
   "metadata": {
    "collapsed": true
   },
   "outputs": [],
   "source": []
  },
  {
   "cell_type": "code",
   "execution_count": null,
   "metadata": {
    "collapsed": true
   },
   "outputs": [],
   "source": []
  },
  {
   "cell_type": "code",
   "execution_count": null,
   "metadata": {
    "collapsed": true
   },
   "outputs": [],
   "source": []
  },
  {
   "cell_type": "code",
   "execution_count": null,
   "metadata": {
    "collapsed": true
   },
   "outputs": [],
   "source": []
  },
  {
   "cell_type": "code",
   "execution_count": null,
   "metadata": {
    "collapsed": true
   },
   "outputs": [],
   "source": []
  },
  {
   "cell_type": "markdown",
   "metadata": {},
   "source": [
    "### Model fiting & CV"
   ]
  },
  {
   "cell_type": "code",
   "execution_count": null,
   "metadata": {
    "collapsed": true
   },
   "outputs": [],
   "source": []
  },
  {
   "cell_type": "code",
   "execution_count": null,
   "metadata": {
    "collapsed": true
   },
   "outputs": [],
   "source": []
  },
  {
   "cell_type": "code",
   "execution_count": null,
   "metadata": {
    "collapsed": true
   },
   "outputs": [],
   "source": []
  },
  {
   "cell_type": "code",
   "execution_count": null,
   "metadata": {
    "collapsed": true
   },
   "outputs": [],
   "source": []
  },
  {
   "cell_type": "code",
   "execution_count": null,
   "metadata": {
    "collapsed": true
   },
   "outputs": [],
   "source": []
  },
  {
   "cell_type": "markdown",
   "metadata": {},
   "source": [
    "### "
   ]
  }
 ],
 "metadata": {
  "kernelspec": {
   "display_name": "Python 3",
   "language": "python",
   "name": "python3"
  },
  "language_info": {
   "codemirror_mode": {
    "name": "ipython",
    "version": 3
   },
   "file_extension": ".py",
   "mimetype": "text/x-python",
   "name": "python",
   "nbconvert_exporter": "python",
   "pygments_lexer": "ipython3",
   "version": "3.5.1"
  }
 },
 "nbformat": 4,
 "nbformat_minor": 0
}
